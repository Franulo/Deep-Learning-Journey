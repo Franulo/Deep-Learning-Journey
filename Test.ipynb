{
  "nbformat": 4,
  "nbformat_minor": 0,
  "metadata": {
    "colab": {
      "provenance": [],
      "authorship_tag": "ABX9TyM59ubZ3DHTKRhd1JsgfxB2",
      "include_colab_link": true
    },
    "kernelspec": {
      "name": "python3",
      "display_name": "Python 3"
    },
    "language_info": {
      "name": "python"
    }
  },
  "cells": [
    {
      "cell_type": "markdown",
      "metadata": {
        "id": "view-in-github",
        "colab_type": "text"
      },
      "source": [
        "<a href=\"https://colab.research.google.com/github/Franulo/DeepLearningJourney/blob/main/Test.ipynb\" target=\"_parent\"><img src=\"https://colab.research.google.com/assets/colab-badge.svg\" alt=\"Open In Colab\"/></a>"
      ]
    },
    {
      "cell_type": "code",
      "execution_count": 28,
      "metadata": {
        "id": "Y4rTYcr6ydOJ"
      },
      "outputs": [],
      "source": [
        "import tensorflow as tf\n",
        "import matplotlib.pyplot as plt\n",
        "import numpy as np\n",
        "from sklearn.model_selection import train_test_split"
      ]
    },
    {
      "cell_type": "code",
      "source": [
        "x = tf.range(0, 100, 2)\n",
        "y = tf.range(10, 110, 2)\n",
        "x, y"
      ],
      "metadata": {
        "colab": {
          "base_uri": "https://localhost:8080/"
        },
        "id": "PJX5jOf4yzbn",
        "outputId": "9633ea1c-d4d3-4a48-b1c3-e94110915ec2"
      },
      "execution_count": 2,
      "outputs": [
        {
          "output_type": "execute_result",
          "data": {
            "text/plain": [
              "(<tf.Tensor: shape=(50,), dtype=int32, numpy=\n",
              " array([ 0,  2,  4,  6,  8, 10, 12, 14, 16, 18, 20, 22, 24, 26, 28, 30, 32,\n",
              "        34, 36, 38, 40, 42, 44, 46, 48, 50, 52, 54, 56, 58, 60, 62, 64, 66,\n",
              "        68, 70, 72, 74, 76, 78, 80, 82, 84, 86, 88, 90, 92, 94, 96, 98],\n",
              "       dtype=int32)>,\n",
              " <tf.Tensor: shape=(50,), dtype=int32, numpy=\n",
              " array([ 10,  12,  14,  16,  18,  20,  22,  24,  26,  28,  30,  32,  34,\n",
              "         36,  38,  40,  42,  44,  46,  48,  50,  52,  54,  56,  58,  60,\n",
              "         62,  64,  66,  68,  70,  72,  74,  76,  78,  80,  82,  84,  86,\n",
              "         88,  90,  92,  94,  96,  98, 100, 102, 104, 106, 108], dtype=int32)>)"
            ]
          },
          "metadata": {},
          "execution_count": 2
        }
      ]
    },
    {
      "cell_type": "code",
      "source": [
        "x.shape, y.shape"
      ],
      "metadata": {
        "colab": {
          "base_uri": "https://localhost:8080/"
        },
        "id": "K6aABaqfzRU0",
        "outputId": "cf3c0394-9bb9-4863-ae2e-c8ff2e4cbc9d"
      },
      "execution_count": 3,
      "outputs": [
        {
          "output_type": "execute_result",
          "data": {
            "text/plain": [
              "(TensorShape([50]), TensorShape([50]))"
            ]
          },
          "metadata": {},
          "execution_count": 3
        }
      ]
    },
    {
      "cell_type": "code",
      "source": [
        "x = np.reshape(x, (-1,1))\n",
        "y = np.reshape(y, (-1,1))"
      ],
      "metadata": {
        "id": "XwzXhhfh9D-F"
      },
      "execution_count": 41,
      "outputs": []
    },
    {
      "cell_type": "code",
      "source": [
        "x_train, x_test = train_test_split(x, test_size=0.2, random_state=42, shuffle=False)\n",
        "y_train, y_test = train_test_split(y, test_size=0.2, random_state=42, shuffle=False)"
      ],
      "metadata": {
        "id": "L46Gxasq0P7s"
      },
      "execution_count": 63,
      "outputs": []
    },
    {
      "cell_type": "code",
      "source": [
        "len(x_train), len(x_test), len(y_train), len(y_test)"
      ],
      "metadata": {
        "colab": {
          "base_uri": "https://localhost:8080/"
        },
        "id": "v08W_h2X_co2",
        "outputId": "ccdb82a3-bb3c-47f1-cfc5-318fedc292f2"
      },
      "execution_count": 64,
      "outputs": [
        {
          "output_type": "execute_result",
          "data": {
            "text/plain": [
              "(40, 10, 40, 10)"
            ]
          },
          "metadata": {},
          "execution_count": 64
        }
      ]
    },
    {
      "cell_type": "code",
      "source": [
        "tf.random.set_seed(42)\n",
        "\n",
        "model = tf.keras.Sequential([\n",
        "    tf.keras.layers.Dense(10),\n",
        "    tf.keras.layers.Dense(1)\n",
        "])\n",
        "\n",
        "model.compile(loss=tf.keras.losses.MeanAbsoluteError(),\n",
        "              optimizer=tf.keras.optimizers.Adam(),\n",
        "              metrics=[\"mae\"])\n",
        "\n",
        "history = model.fit(x_train, y_train, epochs=100)"
      ],
      "metadata": {
        "colab": {
          "base_uri": "https://localhost:8080/"
        },
        "id": "9f4LQlqIzVV4",
        "outputId": "bd2fa221-9b6e-438d-9805-42b1397006cb"
      },
      "execution_count": 65,
      "outputs": [
        {
          "output_type": "stream",
          "name": "stdout",
          "text": [
            "Epoch 1/100\n",
            "2/2 [==============================] - 1s 11ms/step - loss: 40.1225 - mae: 40.1225\n",
            "Epoch 2/100\n",
            "2/2 [==============================] - 0s 7ms/step - loss: 39.5999 - mae: 39.5999\n",
            "Epoch 3/100\n",
            "2/2 [==============================] - 0s 8ms/step - loss: 39.0549 - mae: 39.0549\n",
            "Epoch 4/100\n",
            "2/2 [==============================] - 0s 7ms/step - loss: 38.5165 - mae: 38.5165\n",
            "Epoch 5/100\n",
            "2/2 [==============================] - 0s 8ms/step - loss: 37.9750 - mae: 37.9750\n",
            "Epoch 6/100\n",
            "2/2 [==============================] - 0s 7ms/step - loss: 37.4537 - mae: 37.4537\n",
            "Epoch 7/100\n",
            "2/2 [==============================] - 0s 9ms/step - loss: 36.9145 - mae: 36.9145\n",
            "Epoch 8/100\n",
            "2/2 [==============================] - 0s 7ms/step - loss: 36.3955 - mae: 36.3955\n",
            "Epoch 9/100\n",
            "2/2 [==============================] - 0s 7ms/step - loss: 35.8333 - mae: 35.8333\n",
            "Epoch 10/100\n",
            "2/2 [==============================] - 0s 7ms/step - loss: 35.2995 - mae: 35.2995\n",
            "Epoch 11/100\n",
            "2/2 [==============================] - 0s 8ms/step - loss: 34.7959 - mae: 34.7959\n",
            "Epoch 12/100\n",
            "2/2 [==============================] - 0s 7ms/step - loss: 34.2436 - mae: 34.2436\n",
            "Epoch 13/100\n",
            "2/2 [==============================] - 0s 7ms/step - loss: 33.7204 - mae: 33.7204\n",
            "Epoch 14/100\n",
            "2/2 [==============================] - 0s 7ms/step - loss: 33.1832 - mae: 33.1832\n",
            "Epoch 15/100\n",
            "2/2 [==============================] - 0s 7ms/step - loss: 32.6446 - mae: 32.6446\n",
            "Epoch 16/100\n",
            "2/2 [==============================] - 0s 7ms/step - loss: 32.1185 - mae: 32.1185\n",
            "Epoch 17/100\n",
            "2/2 [==============================] - 0s 6ms/step - loss: 31.5575 - mae: 31.5575\n",
            "Epoch 18/100\n",
            "2/2 [==============================] - 0s 10ms/step - loss: 31.0483 - mae: 31.0483\n",
            "Epoch 19/100\n",
            "2/2 [==============================] - 0s 9ms/step - loss: 30.4950 - mae: 30.4950\n",
            "Epoch 20/100\n",
            "2/2 [==============================] - 0s 7ms/step - loss: 29.9440 - mae: 29.9440\n",
            "Epoch 21/100\n",
            "2/2 [==============================] - 0s 9ms/step - loss: 29.4031 - mae: 29.4031\n",
            "Epoch 22/100\n",
            "2/2 [==============================] - 0s 9ms/step - loss: 28.8430 - mae: 28.8430\n",
            "Epoch 23/100\n",
            "2/2 [==============================] - 0s 7ms/step - loss: 28.3103 - mae: 28.3103\n",
            "Epoch 24/100\n",
            "2/2 [==============================] - 0s 7ms/step - loss: 27.7455 - mae: 27.7455\n",
            "Epoch 25/100\n",
            "2/2 [==============================] - 0s 7ms/step - loss: 27.1991 - mae: 27.1991\n",
            "Epoch 26/100\n",
            "2/2 [==============================] - 0s 7ms/step - loss: 26.6316 - mae: 26.6316\n",
            "Epoch 27/100\n",
            "2/2 [==============================] - 0s 7ms/step - loss: 26.0817 - mae: 26.0817\n",
            "Epoch 28/100\n",
            "2/2 [==============================] - 0s 6ms/step - loss: 25.5144 - mae: 25.5144\n",
            "Epoch 29/100\n",
            "2/2 [==============================] - 0s 6ms/step - loss: 24.9775 - mae: 24.9775\n",
            "Epoch 30/100\n",
            "2/2 [==============================] - 0s 11ms/step - loss: 24.4218 - mae: 24.4218\n",
            "Epoch 31/100\n",
            "2/2 [==============================] - 0s 10ms/step - loss: 23.8468 - mae: 23.8468\n",
            "Epoch 32/100\n",
            "2/2 [==============================] - 0s 6ms/step - loss: 23.3084 - mae: 23.3084\n",
            "Epoch 33/100\n",
            "2/2 [==============================] - 0s 7ms/step - loss: 22.7469 - mae: 22.7469\n",
            "Epoch 34/100\n",
            "2/2 [==============================] - 0s 7ms/step - loss: 22.1739 - mae: 22.1739\n",
            "Epoch 35/100\n",
            "2/2 [==============================] - 0s 6ms/step - loss: 21.6259 - mae: 21.6259\n",
            "Epoch 36/100\n",
            "2/2 [==============================] - 0s 6ms/step - loss: 21.0234 - mae: 21.0234\n",
            "Epoch 37/100\n",
            "2/2 [==============================] - 0s 7ms/step - loss: 20.4452 - mae: 20.4452\n",
            "Epoch 38/100\n",
            "2/2 [==============================] - 0s 6ms/step - loss: 19.8638 - mae: 19.8638\n",
            "Epoch 39/100\n",
            "2/2 [==============================] - 0s 8ms/step - loss: 19.2642 - mae: 19.2642\n",
            "Epoch 40/100\n",
            "2/2 [==============================] - 0s 7ms/step - loss: 18.6610 - mae: 18.6610\n",
            "Epoch 41/100\n",
            "2/2 [==============================] - 0s 7ms/step - loss: 18.0373 - mae: 18.0373\n",
            "Epoch 42/100\n",
            "2/2 [==============================] - 0s 8ms/step - loss: 17.4405 - mae: 17.4405\n",
            "Epoch 43/100\n",
            "2/2 [==============================] - 0s 7ms/step - loss: 16.8370 - mae: 16.8370\n",
            "Epoch 44/100\n",
            "2/2 [==============================] - 0s 7ms/step - loss: 16.2008 - mae: 16.2008\n",
            "Epoch 45/100\n",
            "2/2 [==============================] - 0s 7ms/step - loss: 15.5739 - mae: 15.5739\n",
            "Epoch 46/100\n",
            "2/2 [==============================] - 0s 6ms/step - loss: 14.9454 - mae: 14.9454\n",
            "Epoch 47/100\n",
            "2/2 [==============================] - 0s 6ms/step - loss: 14.3143 - mae: 14.3143\n",
            "Epoch 48/100\n",
            "2/2 [==============================] - 0s 6ms/step - loss: 13.6626 - mae: 13.6626\n",
            "Epoch 49/100\n",
            "2/2 [==============================] - 0s 6ms/step - loss: 13.0308 - mae: 13.0308\n",
            "Epoch 50/100\n",
            "2/2 [==============================] - 0s 7ms/step - loss: 12.3520 - mae: 12.3520\n",
            "Epoch 51/100\n",
            "2/2 [==============================] - 0s 6ms/step - loss: 11.7148 - mae: 11.7148\n",
            "Epoch 52/100\n",
            "2/2 [==============================] - 0s 6ms/step - loss: 11.0547 - mae: 11.0547\n",
            "Epoch 53/100\n",
            "2/2 [==============================] - 0s 6ms/step - loss: 10.4059 - mae: 10.4059\n",
            "Epoch 54/100\n",
            "2/2 [==============================] - 0s 6ms/step - loss: 9.7470 - mae: 9.7470\n",
            "Epoch 55/100\n",
            "2/2 [==============================] - 0s 6ms/step - loss: 9.0868 - mae: 9.0868\n",
            "Epoch 56/100\n",
            "2/2 [==============================] - 0s 6ms/step - loss: 8.4343 - mae: 8.4343\n",
            "Epoch 57/100\n",
            "2/2 [==============================] - 0s 6ms/step - loss: 7.7724 - mae: 7.7724\n",
            "Epoch 58/100\n",
            "2/2 [==============================] - 0s 7ms/step - loss: 7.1235 - mae: 7.1235\n",
            "Epoch 59/100\n",
            "2/2 [==============================] - 0s 6ms/step - loss: 6.4256 - mae: 6.4256\n",
            "Epoch 60/100\n",
            "2/2 [==============================] - 0s 10ms/step - loss: 5.7543 - mae: 5.7543\n",
            "Epoch 61/100\n",
            "2/2 [==============================] - 0s 10ms/step - loss: 5.0553 - mae: 5.0553\n",
            "Epoch 62/100\n",
            "2/2 [==============================] - 0s 8ms/step - loss: 4.4347 - mae: 4.4347\n",
            "Epoch 63/100\n",
            "2/2 [==============================] - 0s 8ms/step - loss: 4.0525 - mae: 4.0525\n",
            "Epoch 64/100\n",
            "2/2 [==============================] - 0s 7ms/step - loss: 3.9515 - mae: 3.9515\n",
            "Epoch 65/100\n",
            "2/2 [==============================] - 0s 7ms/step - loss: 3.9232 - mae: 3.9232\n",
            "Epoch 66/100\n",
            "2/2 [==============================] - 0s 7ms/step - loss: 4.0039 - mae: 4.0039\n",
            "Epoch 67/100\n",
            "2/2 [==============================] - 0s 6ms/step - loss: 4.0713 - mae: 4.0713\n",
            "Epoch 68/100\n",
            "2/2 [==============================] - 0s 7ms/step - loss: 4.1422 - mae: 4.1422\n",
            "Epoch 69/100\n",
            "2/2 [==============================] - 0s 7ms/step - loss: 4.1956 - mae: 4.1956\n",
            "Epoch 70/100\n",
            "2/2 [==============================] - 0s 6ms/step - loss: 4.2239 - mae: 4.2239\n",
            "Epoch 71/100\n",
            "2/2 [==============================] - 0s 7ms/step - loss: 4.2247 - mae: 4.2247\n",
            "Epoch 72/100\n",
            "2/2 [==============================] - 0s 7ms/step - loss: 4.2034 - mae: 4.2034\n",
            "Epoch 73/100\n",
            "2/2 [==============================] - 0s 7ms/step - loss: 4.1612 - mae: 4.1612\n",
            "Epoch 74/100\n",
            "2/2 [==============================] - 0s 7ms/step - loss: 4.1209 - mae: 4.1209\n",
            "Epoch 75/100\n",
            "2/2 [==============================] - 0s 8ms/step - loss: 4.0657 - mae: 4.0657\n",
            "Epoch 76/100\n",
            "2/2 [==============================] - 0s 9ms/step - loss: 4.0200 - mae: 4.0200\n",
            "Epoch 77/100\n",
            "2/2 [==============================] - 0s 6ms/step - loss: 3.9844 - mae: 3.9844\n",
            "Epoch 78/100\n",
            "2/2 [==============================] - 0s 7ms/step - loss: 3.9572 - mae: 3.9572\n",
            "Epoch 79/100\n",
            "2/2 [==============================] - 0s 7ms/step - loss: 3.9300 - mae: 3.9300\n",
            "Epoch 80/100\n",
            "2/2 [==============================] - 0s 7ms/step - loss: 3.9150 - mae: 3.9150\n",
            "Epoch 81/100\n",
            "2/2 [==============================] - 0s 7ms/step - loss: 3.9097 - mae: 3.9097\n",
            "Epoch 82/100\n",
            "2/2 [==============================] - 0s 9ms/step - loss: 3.9024 - mae: 3.9024\n",
            "Epoch 83/100\n",
            "2/2 [==============================] - 0s 7ms/step - loss: 3.9059 - mae: 3.9059\n",
            "Epoch 84/100\n",
            "2/2 [==============================] - 0s 7ms/step - loss: 3.9001 - mae: 3.9001\n",
            "Epoch 85/100\n",
            "2/2 [==============================] - 0s 7ms/step - loss: 3.8988 - mae: 3.8988\n",
            "Epoch 86/100\n",
            "2/2 [==============================] - 0s 9ms/step - loss: 3.9010 - mae: 3.9010\n",
            "Epoch 87/100\n",
            "2/2 [==============================] - 0s 7ms/step - loss: 3.8983 - mae: 3.8983\n",
            "Epoch 88/100\n",
            "2/2 [==============================] - 0s 8ms/step - loss: 3.8969 - mae: 3.8969\n",
            "Epoch 89/100\n",
            "2/2 [==============================] - 0s 8ms/step - loss: 3.8951 - mae: 3.8951\n",
            "Epoch 90/100\n",
            "2/2 [==============================] - 0s 8ms/step - loss: 3.8929 - mae: 3.8929\n",
            "Epoch 91/100\n",
            "2/2 [==============================] - 0s 7ms/step - loss: 3.8894 - mae: 3.8894\n",
            "Epoch 92/100\n",
            "2/2 [==============================] - 0s 10ms/step - loss: 3.8862 - mae: 3.8862\n",
            "Epoch 93/100\n",
            "2/2 [==============================] - 0s 10ms/step - loss: 3.8847 - mae: 3.8847\n",
            "Epoch 94/100\n",
            "2/2 [==============================] - 0s 9ms/step - loss: 3.8824 - mae: 3.8824\n",
            "Epoch 95/100\n",
            "2/2 [==============================] - 0s 9ms/step - loss: 3.8780 - mae: 3.8780\n",
            "Epoch 96/100\n",
            "2/2 [==============================] - 0s 9ms/step - loss: 3.8775 - mae: 3.8775\n",
            "Epoch 97/100\n",
            "2/2 [==============================] - 0s 9ms/step - loss: 3.8726 - mae: 3.8726\n",
            "Epoch 98/100\n",
            "2/2 [==============================] - 0s 9ms/step - loss: 3.8705 - mae: 3.8705\n",
            "Epoch 99/100\n",
            "2/2 [==============================] - 0s 8ms/step - loss: 3.8680 - mae: 3.8680\n",
            "Epoch 100/100\n",
            "2/2 [==============================] - 0s 8ms/step - loss: 3.8660 - mae: 3.8660\n"
          ]
        }
      ]
    },
    {
      "cell_type": "code",
      "source": [
        "plt.plot(history.history['loss'])"
      ],
      "metadata": {
        "colab": {
          "base_uri": "https://localhost:8080/",
          "height": 447
        },
        "id": "s2_oNrehD4vL",
        "outputId": "e63f9e5a-aa96-4656-9c59-c246c6b79877"
      },
      "execution_count": 57,
      "outputs": [
        {
          "output_type": "execute_result",
          "data": {
            "text/plain": [
              "[<matplotlib.lines.Line2D at 0x7a6de0af5e40>]"
            ]
          },
          "metadata": {},
          "execution_count": 57
        },
        {
          "output_type": "display_data",
          "data": {
            "text/plain": [
              "<Figure size 640x480 with 1 Axes>"
            ],
            "image/png": "[encoded data removed]"
          },
          "metadata": {}
        }
      ]
    },
    {
      "cell_type": "code",
      "source": [
        "model.evaluate(x_test, y_test)"
      ],
      "metadata": {
        "colab": {
          "base_uri": "https://localhost:8080/"
        },
        "id": "5m5rcncXE22a",
        "outputId": "97f4d133-f953-4188-c04f-3b0a77b1e664"
      },
      "execution_count": 66,
      "outputs": [
        {
          "output_type": "stream",
          "name": "stdout",
          "text": [
            "1/1 [==============================] - 0s 126ms/step - loss: 5.0943 - mae: 5.0943\n"
          ]
        },
        {
          "output_type": "execute_result",
          "data": {
            "text/plain": [
              "[5.094260215759277, 5.094260215759277]"
            ]
          },
          "metadata": {},
          "execution_count": 66
        }
      ]
    },
    {
      "cell_type": "code",
      "source": [
        "y_pred = model.predict(x_test)"
      ],
      "metadata": {
        "colab": {
          "base_uri": "https://localhost:8080/"
        },
        "id": "BrTOa0ESFUdn",
        "outputId": "2f689452-7d18-4a8d-f779-87567d857633"
      },
      "execution_count": 68,
      "outputs": [
        {
          "output_type": "stream",
          "name": "stdout",
          "text": [
            "1/1 [==============================] - 0s 53ms/step\n"
          ]
        }
      ]
    },
    {
      "cell_type": "code",
      "source": [
        "plt.scatter(x_train, y_train)\n",
        "plt.scatter(x_test, y_test)\n",
        "plt.scatter(x_test, y_pred)"
      ],
      "metadata": {
        "colab": {
          "base_uri": "https://localhost:8080/",
          "height": 447
        },
        "id": "O7HBjowXFCCB",
        "outputId": "65175f6d-76e7-4596-d07f-5cbb9d293396"
      },
      "execution_count": 69,
      "outputs": [
        {
          "output_type": "execute_result",
          "data": {
            "text/plain": [
              "<matplotlib.collections.PathCollection at 0x7a6de0c2a6b0>"
            ]
          },
          "metadata": {},
          "execution_count": 69
        },
        {
          "output_type": "display_data",
          "data": {
            "text/plain": [
              "<Figure size 640x480 with 1 Axes>"
            ],
            "image/png": "[encoded data removed]"
          },
          "metadata": {}
        }
      ]
    }
  ]
}