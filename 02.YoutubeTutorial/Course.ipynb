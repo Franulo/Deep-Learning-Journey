{
 "cells": [
  {
   "cell_type": "markdown",
   "id": "1ea6f940-2758-4ebb-bb76-7f9250989897",
   "metadata": {},
   "source": [
    "# 1. Setup and Get Data"
   ]
  },
  {
   "cell_type": "markdown",
   "id": "e1a2887a-cbfd-40c0-82d8-514224752908",
   "metadata": {},
   "source": [
    "## 1.1 Install Dependencies and Setup"
   ]
  },
  {
   "cell_type": "code",
   "execution_count": 17,
   "id": "b02de63a-ef48-4779-9edd-c653cde62318",
   "metadata": {
    "collapsed": true,
    "jupyter": {
     "outputs_hidden": true
    },
    "tags": []
   },
   "outputs": [
    {
     "name": "stdout",
     "output_type": "stream",
     "text": [
      "Requirement already satisfied: labelme in c:\\users\\franc\\rest\\anaconda3\\lib\\site-packages (5.3.0)\n",
      "Requirement already satisfied: tensorflow in c:\\users\\franc\\rest\\anaconda3\\lib\\site-packages (2.13.0)\n",
      "Requirement already satisfied: opencv-python in c:\\users\\franc\\rest\\anaconda3\\lib\\site-packages (4.8.0.76)\n",
      "Requirement already satisfied: matplotlib in c:\\users\\franc\\rest\\anaconda3\\lib\\site-packages (3.7.1)\n",
      "Requirement already satisfied: albumentations in c:\\users\\franc\\rest\\anaconda3\\lib\\site-packages (1.3.1)\n",
      "Requirement already satisfied: gdown in c:\\users\\franc\\rest\\anaconda3\\lib\\site-packages (from labelme) (4.7.1)\n",
      "Requirement already satisfied: imgviz>=0.11 in c:\\users\\franc\\rest\\anaconda3\\lib\\site-packages (from labelme) (1.7.3)\n",
      "Requirement already satisfied: natsort>=7.1.0 in c:\\users\\franc\\rest\\anaconda3\\lib\\site-packages (from labelme) (8.4.0)\n",
      "Requirement already satisfied: numpy in c:\\users\\franc\\rest\\anaconda3\\lib\\site-packages (from labelme) (1.24.3)\n",
      "Requirement already satisfied: onnxruntime>=1.14.1 in c:\\users\\franc\\rest\\anaconda3\\lib\\site-packages (from labelme) (1.15.1)\n",
      "Requirement already satisfied: Pillow>=2.8 in c:\\users\\franc\\rest\\anaconda3\\lib\\site-packages (from labelme) (9.4.0)\n",
      "Requirement already satisfied: PyYAML in c:\\users\\franc\\rest\\anaconda3\\lib\\site-packages (from labelme) (6.0)\n",
      "Requirement already satisfied: qtpy!=1.11.2 in c:\\users\\franc\\rest\\anaconda3\\lib\\site-packages (from labelme) (2.2.0)\n",
      "Requirement already satisfied: scikit-image in c:\\users\\franc\\rest\\anaconda3\\lib\\site-packages (from labelme) (0.20.0)\n",
      "Requirement already satisfied: termcolor in c:\\users\\franc\\rest\\anaconda3\\lib\\site-packages (from labelme) (2.3.0)\n",
      "Requirement already satisfied: colorama in c:\\users\\franc\\rest\\anaconda3\\lib\\site-packages (from labelme) (0.4.6)\n",
      "Requirement already satisfied: tensorflow-intel==2.13.0 in c:\\users\\franc\\rest\\anaconda3\\lib\\site-packages (from tensorflow) (2.13.0)\n",
      "Requirement already satisfied: absl-py>=1.0.0 in c:\\users\\franc\\rest\\anaconda3\\lib\\site-packages (from tensorflow-intel==2.13.0->tensorflow) (1.4.0)\n",
      "Requirement already satisfied: astunparse>=1.6.0 in c:\\users\\franc\\rest\\anaconda3\\lib\\site-packages (from tensorflow-intel==2.13.0->tensorflow) (1.6.3)\n",
      "Requirement already satisfied: flatbuffers>=23.1.21 in c:\\users\\franc\\rest\\anaconda3\\lib\\site-packages (from tensorflow-intel==2.13.0->tensorflow) (23.5.26)\n",
      "Requirement already satisfied: gast<=0.4.0,>=0.2.1 in c:\\users\\franc\\rest\\anaconda3\\lib\\site-packages (from tensorflow-intel==2.13.0->tensorflow) (0.4.0)\n",
      "Requirement already satisfied: google-pasta>=0.1.1 in c:\\users\\franc\\rest\\anaconda3\\lib\\site-packages (from tensorflow-intel==2.13.0->tensorflow) (0.2.0)\n",
      "Requirement already satisfied: h5py>=2.9.0 in c:\\users\\franc\\rest\\anaconda3\\lib\\site-packages (from tensorflow-intel==2.13.0->tensorflow) (3.7.0)\n",
      "Requirement already satisfied: libclang>=13.0.0 in c:\\users\\franc\\rest\\anaconda3\\lib\\site-packages (from tensorflow-intel==2.13.0->tensorflow) (16.0.6)\n",
      "Requirement already satisfied: opt-einsum>=2.3.2 in c:\\users\\franc\\rest\\anaconda3\\lib\\site-packages (from tensorflow-intel==2.13.0->tensorflow) (3.3.0)\n",
      "Requirement already satisfied: packaging in c:\\users\\franc\\rest\\anaconda3\\lib\\site-packages (from tensorflow-intel==2.13.0->tensorflow) (23.0)\n",
      "Requirement already satisfied: protobuf!=4.21.0,!=4.21.1,!=4.21.2,!=4.21.3,!=4.21.4,!=4.21.5,<5.0.0dev,>=3.20.3 in c:\\users\\franc\\rest\\anaconda3\\lib\\site-packages (from tensorflow-intel==2.13.0->tensorflow) (4.24.0)\n",
      "Requirement already satisfied: setuptools in c:\\users\\franc\\rest\\anaconda3\\lib\\site-packages (from tensorflow-intel==2.13.0->tensorflow) (68.0.0)\n",
      "Requirement already satisfied: six>=1.12.0 in c:\\users\\franc\\rest\\anaconda3\\lib\\site-packages (from tensorflow-intel==2.13.0->tensorflow) (1.16.0)\n",
      "Requirement already satisfied: typing-extensions<4.6.0,>=3.6.6 in c:\\users\\franc\\rest\\anaconda3\\lib\\site-packages (from tensorflow-intel==2.13.0->tensorflow) (4.5.0)\n",
      "Requirement already satisfied: wrapt>=1.11.0 in c:\\users\\franc\\rest\\anaconda3\\lib\\site-packages (from tensorflow-intel==2.13.0->tensorflow) (1.14.1)\n",
      "Requirement already satisfied: grpcio<2.0,>=1.24.3 in c:\\users\\franc\\rest\\anaconda3\\lib\\site-packages (from tensorflow-intel==2.13.0->tensorflow) (1.57.0)\n",
      "Requirement already satisfied: tensorboard<2.14,>=2.13 in c:\\users\\franc\\rest\\anaconda3\\lib\\site-packages (from tensorflow-intel==2.13.0->tensorflow) (2.13.0)\n",
      "Requirement already satisfied: tensorflow-estimator<2.14,>=2.13.0 in c:\\users\\franc\\rest\\anaconda3\\lib\\site-packages (from tensorflow-intel==2.13.0->tensorflow) (2.13.0)\n",
      "Requirement already satisfied: keras<2.14,>=2.13.1 in c:\\users\\franc\\rest\\anaconda3\\lib\\site-packages (from tensorflow-intel==2.13.0->tensorflow) (2.13.1)\n",
      "Requirement already satisfied: tensorflow-io-gcs-filesystem>=0.23.1 in c:\\users\\franc\\rest\\anaconda3\\lib\\site-packages (from tensorflow-intel==2.13.0->tensorflow) (0.31.0)\n",
      "Requirement already satisfied: contourpy>=1.0.1 in c:\\users\\franc\\rest\\anaconda3\\lib\\site-packages (from matplotlib) (1.0.5)\n",
      "Requirement already satisfied: cycler>=0.10 in c:\\users\\franc\\rest\\anaconda3\\lib\\site-packages (from matplotlib) (0.11.0)\n",
      "Requirement already satisfied: fonttools>=4.22.0 in c:\\users\\franc\\rest\\anaconda3\\lib\\site-packages (from matplotlib) (4.25.0)\n",
      "Requirement already satisfied: kiwisolver>=1.0.1 in c:\\users\\franc\\rest\\anaconda3\\lib\\site-packages (from matplotlib) (1.4.4)\n",
      "Requirement already satisfied: pyparsing>=2.3.1 in c:\\users\\franc\\rest\\anaconda3\\lib\\site-packages (from matplotlib) (3.0.9)\n",
      "Requirement already satisfied: python-dateutil>=2.7 in c:\\users\\franc\\rest\\anaconda3\\lib\\site-packages (from matplotlib) (2.8.2)\n",
      "Requirement already satisfied: scipy>=1.1.0 in c:\\users\\franc\\rest\\anaconda3\\lib\\site-packages (from albumentations) (1.10.1)\n",
      "Requirement already satisfied: qudida>=0.0.4 in c:\\users\\franc\\rest\\anaconda3\\lib\\site-packages (from albumentations) (0.0.4)\n",
      "Requirement already satisfied: opencv-python-headless>=4.1.1 in c:\\users\\franc\\rest\\anaconda3\\lib\\site-packages (from albumentations) (4.8.0.76)\n",
      "Requirement already satisfied: coloredlogs in c:\\users\\franc\\rest\\anaconda3\\lib\\site-packages (from onnxruntime>=1.14.1->labelme) (15.0.1)\n",
      "Requirement already satisfied: sympy in c:\\users\\franc\\rest\\anaconda3\\lib\\site-packages (from onnxruntime>=1.14.1->labelme) (1.11.1)\n",
      "Requirement already satisfied: scikit-learn>=0.19.1 in c:\\users\\franc\\rest\\anaconda3\\lib\\site-packages (from qudida>=0.0.4->albumentations) (1.3.0)\n",
      "Requirement already satisfied: networkx>=2.8 in c:\\users\\franc\\rest\\anaconda3\\lib\\site-packages (from scikit-image->labelme) (3.1)\n",
      "Requirement already satisfied: imageio>=2.4.1 in c:\\users\\franc\\rest\\anaconda3\\lib\\site-packages (from scikit-image->labelme) (2.26.0)\n",
      "Requirement already satisfied: tifffile>=2019.7.26 in c:\\users\\franc\\rest\\anaconda3\\lib\\site-packages (from scikit-image->labelme) (2021.7.2)\n",
      "Requirement already satisfied: PyWavelets>=1.1.1 in c:\\users\\franc\\rest\\anaconda3\\lib\\site-packages (from scikit-image->labelme) (1.4.1)\n",
      "Requirement already satisfied: lazy_loader>=0.1 in c:\\users\\franc\\rest\\anaconda3\\lib\\site-packages (from scikit-image->labelme) (0.2)\n",
      "Requirement already satisfied: filelock in c:\\users\\franc\\rest\\anaconda3\\lib\\site-packages (from gdown->labelme) (3.12.2)\n",
      "Requirement already satisfied: requests[socks] in c:\\users\\franc\\rest\\anaconda3\\lib\\site-packages (from gdown->labelme) (2.31.0)\n",
      "Requirement already satisfied: tqdm in c:\\users\\franc\\rest\\anaconda3\\lib\\site-packages (from gdown->labelme) (4.65.0)\n",
      "Requirement already satisfied: beautifulsoup4 in c:\\users\\franc\\rest\\anaconda3\\lib\\site-packages (from gdown->labelme) (4.12.2)\n",
      "Requirement already satisfied: wheel<1.0,>=0.23.0 in c:\\users\\franc\\rest\\anaconda3\\lib\\site-packages (from astunparse>=1.6.0->tensorflow-intel==2.13.0->tensorflow) (0.38.4)\n",
      "Requirement already satisfied: joblib>=1.1.1 in c:\\users\\franc\\rest\\anaconda3\\lib\\site-packages (from scikit-learn>=0.19.1->qudida>=0.0.4->albumentations) (1.2.0)\n",
      "Requirement already satisfied: threadpoolctl>=2.0.0 in c:\\users\\franc\\rest\\anaconda3\\lib\\site-packages (from scikit-learn>=0.19.1->qudida>=0.0.4->albumentations) (2.2.0)\n",
      "Requirement already satisfied: google-auth<3,>=1.6.3 in c:\\users\\franc\\rest\\anaconda3\\lib\\site-packages (from tensorboard<2.14,>=2.13->tensorflow-intel==2.13.0->tensorflow) (2.22.0)\n",
      "Requirement already satisfied: google-auth-oauthlib<1.1,>=0.5 in c:\\users\\franc\\rest\\anaconda3\\lib\\site-packages (from tensorboard<2.14,>=2.13->tensorflow-intel==2.13.0->tensorflow) (1.0.0)\n",
      "Requirement already satisfied: markdown>=2.6.8 in c:\\users\\franc\\rest\\anaconda3\\lib\\site-packages (from tensorboard<2.14,>=2.13->tensorflow-intel==2.13.0->tensorflow) (3.4.1)\n",
      "Requirement already satisfied: tensorboard-data-server<0.8.0,>=0.7.0 in c:\\users\\franc\\rest\\anaconda3\\lib\\site-packages (from tensorboard<2.14,>=2.13->tensorflow-intel==2.13.0->tensorflow) (0.7.1)\n",
      "Requirement already satisfied: werkzeug>=1.0.1 in c:\\users\\franc\\rest\\anaconda3\\lib\\site-packages (from tensorboard<2.14,>=2.13->tensorflow-intel==2.13.0->tensorflow) (2.2.3)\n",
      "Requirement already satisfied: soupsieve>1.2 in c:\\users\\franc\\rest\\anaconda3\\lib\\site-packages (from beautifulsoup4->gdown->labelme) (2.4)\n",
      "Requirement already satisfied: humanfriendly>=9.1 in c:\\users\\franc\\rest\\anaconda3\\lib\\site-packages (from coloredlogs->onnxruntime>=1.14.1->labelme) (10.0)\n",
      "Requirement already satisfied: charset-normalizer<4,>=2 in c:\\users\\franc\\rest\\anaconda3\\lib\\site-packages (from requests[socks]->gdown->labelme) (2.0.4)\n",
      "Requirement already satisfied: idna<4,>=2.5 in c:\\users\\franc\\rest\\anaconda3\\lib\\site-packages (from requests[socks]->gdown->labelme) (3.4)\n",
      "Requirement already satisfied: urllib3<3,>=1.21.1 in c:\\users\\franc\\rest\\anaconda3\\lib\\site-packages (from requests[socks]->gdown->labelme) (1.26.16)\n",
      "Requirement already satisfied: certifi>=2017.4.17 in c:\\users\\franc\\rest\\anaconda3\\lib\\site-packages (from requests[socks]->gdown->labelme) (2023.7.22)\n",
      "Requirement already satisfied: PySocks!=1.5.7,>=1.5.6 in c:\\users\\franc\\rest\\anaconda3\\lib\\site-packages (from requests[socks]->gdown->labelme) (1.7.1)\n",
      "Requirement already satisfied: mpmath>=0.19 in c:\\users\\franc\\rest\\anaconda3\\lib\\site-packages (from sympy->onnxruntime>=1.14.1->labelme) (1.3.0)\n",
      "Requirement already satisfied: cachetools<6.0,>=2.0.0 in c:\\users\\franc\\rest\\anaconda3\\lib\\site-packages (from google-auth<3,>=1.6.3->tensorboard<2.14,>=2.13->tensorflow-intel==2.13.0->tensorflow) (5.3.1)\n",
      "Requirement already satisfied: pyasn1-modules>=0.2.1 in c:\\users\\franc\\rest\\anaconda3\\lib\\site-packages (from google-auth<3,>=1.6.3->tensorboard<2.14,>=2.13->tensorflow-intel==2.13.0->tensorflow) (0.2.8)\n",
      "Requirement already satisfied: rsa<5,>=3.1.4 in c:\\users\\franc\\rest\\anaconda3\\lib\\site-packages (from google-auth<3,>=1.6.3->tensorboard<2.14,>=2.13->tensorflow-intel==2.13.0->tensorflow) (4.9)\n",
      "Requirement already satisfied: requests-oauthlib>=0.7.0 in c:\\users\\franc\\rest\\anaconda3\\lib\\site-packages (from google-auth-oauthlib<1.1,>=0.5->tensorboard<2.14,>=2.13->tensorflow-intel==2.13.0->tensorflow) (1.3.1)\n",
      "Requirement already satisfied: pyreadline3 in c:\\users\\franc\\rest\\anaconda3\\lib\\site-packages (from humanfriendly>=9.1->coloredlogs->onnxruntime>=1.14.1->labelme) (3.4.1)\n",
      "Requirement already satisfied: MarkupSafe>=2.1.1 in c:\\users\\franc\\rest\\anaconda3\\lib\\site-packages (from werkzeug>=1.0.1->tensorboard<2.14,>=2.13->tensorflow-intel==2.13.0->tensorflow) (2.1.1)\n",
      "Requirement already satisfied: pyasn1<0.5.0,>=0.4.6 in c:\\users\\franc\\rest\\anaconda3\\lib\\site-packages (from pyasn1-modules>=0.2.1->google-auth<3,>=1.6.3->tensorboard<2.14,>=2.13->tensorflow-intel==2.13.0->tensorflow) (0.4.8)\n",
      "Requirement already satisfied: oauthlib>=3.0.0 in c:\\users\\franc\\rest\\anaconda3\\lib\\site-packages (from requests-oauthlib>=0.7.0->google-auth-oauthlib<1.1,>=0.5->tensorboard<2.14,>=2.13->tensorflow-intel==2.13.0->tensorflow) (3.2.2)\n"
     ]
    }
   ],
   "source": [
    "!pip install labelme tensorflow opencv-python matplotlib albumentations"
   ]
  },
  {
   "cell_type": "markdown",
   "id": "16c4d2e3-5ab3-4c72-b7e6-68329b51b05c",
   "metadata": {},
   "source": [
    "## 1.2 Collect Images Using OpenCV"
   ]
  },
  {
   "cell_type": "code",
   "execution_count": 1,
   "id": "104ffb4b-04c2-45f6-99a5-45445f5ef125",
   "metadata": {
    "tags": []
   },
   "outputs": [],
   "source": [
    "import os # makes it easier to navigate tough different file paths\n",
    "import time # allows to use time\n",
    "import uuid # allows to create uniform unique identifier, example: for unique file names for images (more professional)\n",
    "import cv2 # allows to use different senses like different camaras etc. (for computer vision), doesnt work for colab"
   ]
  },
  {
   "cell_type": "code",
   "execution_count": 3,
   "id": "48533f37-1ff9-439a-95bf-a76481cfbe34",
   "metadata": {
    "tags": []
   },
   "outputs": [],
   "source": [
    "IMAGES_PATH = os.path.join('data', 'images')\n",
    "number_images = 10"
   ]
  },
  {
   "cell_type": "code",
   "execution_count": 6,
   "id": "11e8b6a1-e3f4-4d26-b4e0-d9e1485e4e77",
   "metadata": {
    "tags": []
   },
   "outputs": [
    {
     "name": "stdout",
     "output_type": "stream",
     "text": [
      "Collection image 0\n",
      "Collection image 1\n",
      "Collection image 2\n",
      "Collection image 3\n",
      "Collection image 4\n",
      "Collection image 5\n",
      "Collection image 6\n",
      "Collection image 7\n",
      "Collection image 8\n",
      "Collection image 9\n"
     ]
    }
   ],
   "source": [
    "cap = cv2.VideoCapture(0)\n",
    "for imgnum in range(number_images):\n",
    "    print('Collection image {}'.format(imgnum))\n",
    "    ret, frame = cap.read()\n",
    "    imgname = os.path.join(IMAGES_PATH, f'{str(uuid.uuid1())}.jpg')\n",
    "    cv2.imwrite(imgname, frame)\n",
    "    cv2.imshow('frame', frame)\n",
    "    time.sleep(0.5)\n",
    "    \n",
    "    if cv2.waitKey(1) & 0xFF == ord('q'):\n",
    "        break\n",
    "cap.release()\n",
    "cv2.destroyAllWindows()"
   ]
  }
 ],
 "metadata": {
  "kernelspec": {
   "display_name": "Python 3 (ipykernel)",
   "language": "python",
   "name": "python3"
  },
  "language_info": {
   "codemirror_mode": {
    "name": "ipython",
    "version": 3
   },
   "file_extension": ".py",
   "mimetype": "text/x-python",
   "name": "python",
   "nbconvert_exporter": "python",
   "pygments_lexer": "ipython3",
   "version": "3.11.4"
  }
 },
 "nbformat": 4,
 "nbformat_minor": 5
}
