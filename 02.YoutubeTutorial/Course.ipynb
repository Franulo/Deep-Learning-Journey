{
 "cells": [
  {
   "cell_type": "markdown",
   "id": "1ea6f940-2758-4ebb-bb76-7f9250989897",
   "metadata": {},
   "source": [
    "# 1. Setup and Get Data"
   ]
  },
  {
   "cell_type": "markdown",
   "id": "e1a2887a-cbfd-40c0-82d8-514224752908",
   "metadata": {
    "jp-MarkdownHeadingCollapsed": true,
    "tags": []
   },
   "source": [
    "## 1.1 Install Dependencies and Setup"
   ]
  },
  {
   "cell_type": "code",
   "execution_count": 7,
   "id": "5c41bab9-abe1-48a1-905e-351e0988b929",
   "metadata": {
    "collapsed": true,
    "jupyter": {
     "outputs_hidden": true
    },
    "tags": []
   },
   "outputs": [
    {
     "name": "stdout",
     "output_type": "stream",
     "text": [
      "Requirement already satisfied: labelme in c:\\users\\franc\\rest\\anaconda3\\envs\\tf\\lib\\site-packages (5.3.0)\n",
      "Requirement already satisfied: tensorflow==2.10.0 in c:\\users\\franc\\rest\\anaconda3\\envs\\tf\\lib\\site-packages (2.10.0)\n",
      "Requirement already satisfied: tensorflow-gpu==2.10.0 in c:\\users\\franc\\rest\\anaconda3\\envs\\tf\\lib\\site-packages (2.10.0)\n",
      "Requirement already satisfied: opencv-python in c:\\users\\franc\\rest\\anaconda3\\envs\\tf\\lib\\site-packages (4.8.0.76)\n",
      "Requirement already satisfied: matplotlib in c:\\users\\franc\\rest\\anaconda3\\envs\\tf\\lib\\site-packages (3.7.2)\n",
      "Requirement already satisfied: albumentations in c:\\users\\franc\\rest\\anaconda3\\envs\\tf\\lib\\site-packages (1.3.1)\n",
      "Requirement already satisfied: absl-py>=1.0.0 in c:\\users\\franc\\rest\\anaconda3\\envs\\tf\\lib\\site-packages (from tensorflow==2.10.0) (1.4.0)\n",
      "Requirement already satisfied: astunparse>=1.6.0 in c:\\users\\franc\\rest\\anaconda3\\envs\\tf\\lib\\site-packages (from tensorflow==2.10.0) (1.6.3)\n",
      "Requirement already satisfied: flatbuffers>=2.0 in c:\\users\\franc\\rest\\anaconda3\\envs\\tf\\lib\\site-packages (from tensorflow==2.10.0) (23.5.26)\n",
      "Requirement already satisfied: gast<=0.4.0,>=0.2.1 in c:\\users\\franc\\rest\\anaconda3\\envs\\tf\\lib\\site-packages (from tensorflow==2.10.0) (0.4.0)\n",
      "Requirement already satisfied: google-pasta>=0.1.1 in c:\\users\\franc\\rest\\anaconda3\\envs\\tf\\lib\\site-packages (from tensorflow==2.10.0) (0.2.0)\n",
      "Requirement already satisfied: h5py>=2.9.0 in c:\\users\\franc\\rest\\anaconda3\\envs\\tf\\lib\\site-packages (from tensorflow==2.10.0) (3.9.0)\n",
      "Requirement already satisfied: keras-preprocessing>=1.1.1 in c:\\users\\franc\\rest\\anaconda3\\envs\\tf\\lib\\site-packages (from tensorflow==2.10.0) (1.1.2)\n",
      "Requirement already satisfied: libclang>=13.0.0 in c:\\users\\franc\\rest\\anaconda3\\envs\\tf\\lib\\site-packages (from tensorflow==2.10.0) (16.0.6)\n",
      "Requirement already satisfied: numpy>=1.20 in c:\\users\\franc\\rest\\anaconda3\\envs\\tf\\lib\\site-packages (from tensorflow==2.10.0) (1.25.2)\n",
      "Requirement already satisfied: opt-einsum>=2.3.2 in c:\\users\\franc\\rest\\anaconda3\\envs\\tf\\lib\\site-packages (from tensorflow==2.10.0) (3.3.0)\n",
      "Requirement already satisfied: packaging in c:\\users\\franc\\rest\\anaconda3\\envs\\tf\\lib\\site-packages (from tensorflow==2.10.0) (23.0)\n",
      "Requirement already satisfied: protobuf<3.20,>=3.9.2 in c:\\users\\franc\\rest\\anaconda3\\envs\\tf\\lib\\site-packages (from tensorflow==2.10.0) (3.19.6)\n",
      "Requirement already satisfied: setuptools in c:\\users\\franc\\rest\\anaconda3\\envs\\tf\\lib\\site-packages (from tensorflow==2.10.0) (68.0.0)\n",
      "Requirement already satisfied: six>=1.12.0 in c:\\users\\franc\\rest\\anaconda3\\envs\\tf\\lib\\site-packages (from tensorflow==2.10.0) (1.16.0)\n",
      "Requirement already satisfied: termcolor>=1.1.0 in c:\\users\\franc\\rest\\anaconda3\\envs\\tf\\lib\\site-packages (from tensorflow==2.10.0) (2.3.0)\n",
      "Requirement already satisfied: typing-extensions>=3.6.6 in c:\\users\\franc\\rest\\anaconda3\\envs\\tf\\lib\\site-packages (from tensorflow==2.10.0) (4.7.1)\n",
      "Requirement already satisfied: wrapt>=1.11.0 in c:\\users\\franc\\rest\\anaconda3\\envs\\tf\\lib\\site-packages (from tensorflow==2.10.0) (1.15.0)\n",
      "Requirement already satisfied: tensorflow-io-gcs-filesystem>=0.23.1 in c:\\users\\franc\\rest\\anaconda3\\envs\\tf\\lib\\site-packages (from tensorflow==2.10.0) (0.31.0)\n",
      "Requirement already satisfied: grpcio<2.0,>=1.24.3 in c:\\users\\franc\\rest\\anaconda3\\envs\\tf\\lib\\site-packages (from tensorflow==2.10.0) (1.57.0)\n",
      "Requirement already satisfied: tensorboard<2.11,>=2.10 in c:\\users\\franc\\rest\\anaconda3\\envs\\tf\\lib\\site-packages (from tensorflow==2.10.0) (2.10.1)\n",
      "Requirement already satisfied: tensorflow-estimator<2.11,>=2.10.0 in c:\\users\\franc\\rest\\anaconda3\\envs\\tf\\lib\\site-packages (from tensorflow==2.10.0) (2.10.0)\n",
      "Requirement already satisfied: keras<2.11,>=2.10.0 in c:\\users\\franc\\rest\\anaconda3\\envs\\tf\\lib\\site-packages (from tensorflow==2.10.0) (2.10.0)\n",
      "Requirement already satisfied: gdown in c:\\users\\franc\\rest\\anaconda3\\envs\\tf\\lib\\site-packages (from labelme) (4.7.1)\n",
      "Requirement already satisfied: imgviz>=0.11 in c:\\users\\franc\\rest\\anaconda3\\envs\\tf\\lib\\site-packages (from labelme) (1.7.3)\n",
      "Requirement already satisfied: natsort>=7.1.0 in c:\\users\\franc\\rest\\anaconda3\\envs\\tf\\lib\\site-packages (from labelme) (8.4.0)\n",
      "Requirement already satisfied: onnxruntime>=1.14.1 in c:\\users\\franc\\rest\\anaconda3\\envs\\tf\\lib\\site-packages (from labelme) (1.15.1)\n",
      "Requirement already satisfied: Pillow>=2.8 in c:\\users\\franc\\rest\\anaconda3\\envs\\tf\\lib\\site-packages (from labelme) (10.0.0)\n",
      "Requirement already satisfied: PyYAML in c:\\users\\franc\\rest\\anaconda3\\envs\\tf\\lib\\site-packages (from labelme) (6.0)\n",
      "Requirement already satisfied: qtpy!=1.11.2 in c:\\users\\franc\\rest\\anaconda3\\envs\\tf\\lib\\site-packages (from labelme) (2.3.1)\n",
      "Requirement already satisfied: scikit-image in c:\\users\\franc\\rest\\anaconda3\\envs\\tf\\lib\\site-packages (from labelme) (0.21.0)\n",
      "Requirement already satisfied: PyQt5!=5.15.3,!=5.15.4 in c:\\users\\franc\\rest\\anaconda3\\envs\\tf\\lib\\site-packages (from labelme) (5.15.9)\n",
      "Requirement already satisfied: colorama in c:\\users\\franc\\rest\\anaconda3\\envs\\tf\\lib\\site-packages (from labelme) (0.4.6)\n",
      "Requirement already satisfied: contourpy>=1.0.1 in c:\\users\\franc\\rest\\anaconda3\\envs\\tf\\lib\\site-packages (from matplotlib) (1.1.0)\n",
      "Requirement already satisfied: cycler>=0.10 in c:\\users\\franc\\rest\\anaconda3\\envs\\tf\\lib\\site-packages (from matplotlib) (0.11.0)\n",
      "Requirement already satisfied: fonttools>=4.22.0 in c:\\users\\franc\\rest\\anaconda3\\envs\\tf\\lib\\site-packages (from matplotlib) (4.42.1)\n",
      "Requirement already satisfied: kiwisolver>=1.0.1 in c:\\users\\franc\\rest\\anaconda3\\envs\\tf\\lib\\site-packages (from matplotlib) (1.4.4)\n",
      "Requirement already satisfied: pyparsing<3.1,>=2.3.1 in c:\\users\\franc\\rest\\anaconda3\\envs\\tf\\lib\\site-packages (from matplotlib) (3.0.9)\n",
      "Requirement already satisfied: python-dateutil>=2.7 in c:\\users\\franc\\rest\\anaconda3\\envs\\tf\\lib\\site-packages (from matplotlib) (2.8.2)\n",
      "Requirement already satisfied: scipy>=1.1.0 in c:\\users\\franc\\rest\\anaconda3\\envs\\tf\\lib\\site-packages (from albumentations) (1.11.2)\n",
      "Requirement already satisfied: qudida>=0.0.4 in c:\\users\\franc\\rest\\anaconda3\\envs\\tf\\lib\\site-packages (from albumentations) (0.0.4)\n",
      "Requirement already satisfied: opencv-python-headless>=4.1.1 in c:\\users\\franc\\rest\\anaconda3\\envs\\tf\\lib\\site-packages (from albumentations) (4.8.0.76)\n",
      "Requirement already satisfied: wheel<1.0,>=0.23.0 in c:\\users\\franc\\rest\\anaconda3\\envs\\tf\\lib\\site-packages (from astunparse>=1.6.0->tensorflow==2.10.0) (0.38.4)\n",
      "Requirement already satisfied: coloredlogs in c:\\users\\franc\\rest\\anaconda3\\envs\\tf\\lib\\site-packages (from onnxruntime>=1.14.1->labelme) (15.0.1)\n",
      "Requirement already satisfied: sympy in c:\\users\\franc\\rest\\anaconda3\\envs\\tf\\lib\\site-packages (from onnxruntime>=1.14.1->labelme) (1.12)\n",
      "Requirement already satisfied: PyQt5-sip<13,>=12.11 in c:\\users\\franc\\rest\\anaconda3\\envs\\tf\\lib\\site-packages (from PyQt5!=5.15.3,!=5.15.4->labelme) (12.12.2)\n",
      "Requirement already satisfied: PyQt5-Qt5>=5.15.2 in c:\\users\\franc\\rest\\anaconda3\\envs\\tf\\lib\\site-packages (from PyQt5!=5.15.3,!=5.15.4->labelme) (5.15.2)\n",
      "Requirement already satisfied: scikit-learn>=0.19.1 in c:\\users\\franc\\rest\\anaconda3\\envs\\tf\\lib\\site-packages (from qudida>=0.0.4->albumentations) (1.3.0)\n",
      "Requirement already satisfied: networkx>=2.8 in c:\\users\\franc\\rest\\anaconda3\\envs\\tf\\lib\\site-packages (from scikit-image->labelme) (3.1)\n",
      "Requirement already satisfied: imageio>=2.27 in c:\\users\\franc\\rest\\anaconda3\\envs\\tf\\lib\\site-packages (from scikit-image->labelme) (2.31.1)\n",
      "Requirement already satisfied: tifffile>=2022.8.12 in c:\\users\\franc\\rest\\anaconda3\\envs\\tf\\lib\\site-packages (from scikit-image->labelme) (2023.8.12)\n",
      "Requirement already satisfied: PyWavelets>=1.1.1 in c:\\users\\franc\\rest\\anaconda3\\envs\\tf\\lib\\site-packages (from scikit-image->labelme) (1.4.1)\n",
      "Requirement already satisfied: lazy_loader>=0.2 in c:\\users\\franc\\rest\\anaconda3\\envs\\tf\\lib\\site-packages (from scikit-image->labelme) (0.3)\n",
      "Requirement already satisfied: google-auth<3,>=1.6.3 in c:\\users\\franc\\rest\\anaconda3\\envs\\tf\\lib\\site-packages (from tensorboard<2.11,>=2.10->tensorflow==2.10.0) (2.22.0)\n",
      "Requirement already satisfied: google-auth-oauthlib<0.5,>=0.4.1 in c:\\users\\franc\\rest\\anaconda3\\envs\\tf\\lib\\site-packages (from tensorboard<2.11,>=2.10->tensorflow==2.10.0) (0.4.6)\n",
      "Requirement already satisfied: markdown>=2.6.8 in c:\\users\\franc\\rest\\anaconda3\\envs\\tf\\lib\\site-packages (from tensorboard<2.11,>=2.10->tensorflow==2.10.0) (3.4.4)\n",
      "Requirement already satisfied: requests<3,>=2.21.0 in c:\\users\\franc\\rest\\anaconda3\\envs\\tf\\lib\\site-packages (from tensorboard<2.11,>=2.10->tensorflow==2.10.0) (2.31.0)\n",
      "Requirement already satisfied: tensorboard-data-server<0.7.0,>=0.6.0 in c:\\users\\franc\\rest\\anaconda3\\envs\\tf\\lib\\site-packages (from tensorboard<2.11,>=2.10->tensorflow==2.10.0) (0.6.1)\n",
      "Requirement already satisfied: tensorboard-plugin-wit>=1.6.0 in c:\\users\\franc\\rest\\anaconda3\\envs\\tf\\lib\\site-packages (from tensorboard<2.11,>=2.10->tensorflow==2.10.0) (1.8.1)\n",
      "Requirement already satisfied: werkzeug>=1.0.1 in c:\\users\\franc\\rest\\anaconda3\\envs\\tf\\lib\\site-packages (from tensorboard<2.11,>=2.10->tensorflow==2.10.0) (2.3.7)\n",
      "Requirement already satisfied: filelock in c:\\users\\franc\\rest\\anaconda3\\envs\\tf\\lib\\site-packages (from gdown->labelme) (3.12.2)\n",
      "Requirement already satisfied: tqdm in c:\\users\\franc\\rest\\anaconda3\\envs\\tf\\lib\\site-packages (from gdown->labelme) (4.66.1)\n",
      "Requirement already satisfied: beautifulsoup4 in c:\\users\\franc\\rest\\anaconda3\\envs\\tf\\lib\\site-packages (from gdown->labelme) (4.12.2)\n",
      "Requirement already satisfied: cachetools<6.0,>=2.0.0 in c:\\users\\franc\\rest\\anaconda3\\envs\\tf\\lib\\site-packages (from google-auth<3,>=1.6.3->tensorboard<2.11,>=2.10->tensorflow==2.10.0) (5.3.1)\n",
      "Requirement already satisfied: pyasn1-modules>=0.2.1 in c:\\users\\franc\\rest\\anaconda3\\envs\\tf\\lib\\site-packages (from google-auth<3,>=1.6.3->tensorboard<2.11,>=2.10->tensorflow==2.10.0) (0.3.0)\n",
      "Requirement already satisfied: rsa<5,>=3.1.4 in c:\\users\\franc\\rest\\anaconda3\\envs\\tf\\lib\\site-packages (from google-auth<3,>=1.6.3->tensorboard<2.11,>=2.10->tensorflow==2.10.0) (4.9)\n",
      "Requirement already satisfied: urllib3<2.0 in c:\\users\\franc\\rest\\anaconda3\\envs\\tf\\lib\\site-packages (from google-auth<3,>=1.6.3->tensorboard<2.11,>=2.10->tensorflow==2.10.0) (1.26.16)\n",
      "Requirement already satisfied: requests-oauthlib>=0.7.0 in c:\\users\\franc\\rest\\anaconda3\\envs\\tf\\lib\\site-packages (from google-auth-oauthlib<0.5,>=0.4.1->tensorboard<2.11,>=2.10->tensorflow==2.10.0) (1.3.1)\n",
      "Requirement already satisfied: charset-normalizer<4,>=2 in c:\\users\\franc\\rest\\anaconda3\\envs\\tf\\lib\\site-packages (from requests<3,>=2.21.0->tensorboard<2.11,>=2.10->tensorflow==2.10.0) (2.0.4)\n",
      "Requirement already satisfied: idna<4,>=2.5 in c:\\users\\franc\\rest\\anaconda3\\envs\\tf\\lib\\site-packages (from requests<3,>=2.21.0->tensorboard<2.11,>=2.10->tensorflow==2.10.0) (3.4)\n",
      "Requirement already satisfied: certifi>=2017.4.17 in c:\\users\\franc\\rest\\anaconda3\\envs\\tf\\lib\\site-packages (from requests<3,>=2.21.0->tensorboard<2.11,>=2.10->tensorflow==2.10.0) (2023.7.22)\n",
      "Requirement already satisfied: joblib>=1.1.1 in c:\\users\\franc\\rest\\anaconda3\\envs\\tf\\lib\\site-packages (from scikit-learn>=0.19.1->qudida>=0.0.4->albumentations) (1.3.2)\n",
      "Requirement already satisfied: threadpoolctl>=2.0.0 in c:\\users\\franc\\rest\\anaconda3\\envs\\tf\\lib\\site-packages (from scikit-learn>=0.19.1->qudida>=0.0.4->albumentations) (3.2.0)\n",
      "Requirement already satisfied: MarkupSafe>=2.1.1 in c:\\users\\franc\\rest\\anaconda3\\envs\\tf\\lib\\site-packages (from werkzeug>=1.0.1->tensorboard<2.11,>=2.10->tensorflow==2.10.0) (2.1.1)\n",
      "Requirement already satisfied: soupsieve>1.2 in c:\\users\\franc\\rest\\anaconda3\\envs\\tf\\lib\\site-packages (from beautifulsoup4->gdown->labelme) (2.4)\n",
      "Requirement already satisfied: humanfriendly>=9.1 in c:\\users\\franc\\rest\\anaconda3\\envs\\tf\\lib\\site-packages (from coloredlogs->onnxruntime>=1.14.1->labelme) (10.0)\n",
      "Requirement already satisfied: PySocks!=1.5.7,>=1.5.6 in c:\\users\\franc\\rest\\anaconda3\\envs\\tf\\lib\\site-packages (from requests<3,>=2.21.0->tensorboard<2.11,>=2.10->tensorflow==2.10.0) (1.7.1)\n",
      "Requirement already satisfied: mpmath>=0.19 in c:\\users\\franc\\rest\\anaconda3\\envs\\tf\\lib\\site-packages (from sympy->onnxruntime>=1.14.1->labelme) (1.3.0)\n",
      "Requirement already satisfied: pyreadline3 in c:\\users\\franc\\rest\\anaconda3\\envs\\tf\\lib\\site-packages (from humanfriendly>=9.1->coloredlogs->onnxruntime>=1.14.1->labelme) (3.4.1)\n",
      "Requirement already satisfied: pyasn1<0.6.0,>=0.4.6 in c:\\users\\franc\\rest\\anaconda3\\envs\\tf\\lib\\site-packages (from pyasn1-modules>=0.2.1->google-auth<3,>=1.6.3->tensorboard<2.11,>=2.10->tensorflow==2.10.0) (0.5.0)\n",
      "Requirement already satisfied: oauthlib>=3.0.0 in c:\\users\\franc\\rest\\anaconda3\\envs\\tf\\lib\\site-packages (from requests-oauthlib>=0.7.0->google-auth-oauthlib<0.5,>=0.4.1->tensorboard<2.11,>=2.10->tensorflow==2.10.0) (3.2.2)\n"
     ]
    }
   ],
   "source": [
    "!pip install labelme tensorflow==2.10.0 tensorflow-gpu==2.10.0 opencv-python matplotlib albumentations"
   ]
  },
  {
   "cell_type": "markdown",
   "id": "16c4d2e3-5ab3-4c72-b7e6-68329b51b05c",
   "metadata": {},
   "source": [
    "## 1.2 Collect Images Using OpenCV"
   ]
  },
  {
   "cell_type": "code",
   "execution_count": 8,
   "id": "104ffb4b-04c2-45f6-99a5-45445f5ef125",
   "metadata": {
    "tags": []
   },
   "outputs": [],
   "source": [
    "import os # makes it easier to navigate tough different file paths\n",
    "import time # allows to use time\n",
    "import uuid # allows to create uniform unique identifier, example: for unique file names for images (more professional)\n",
    "import cv2 # allows to use different senses like different camaras etc. (for computer vision), doesnt work for colab"
   ]
  },
  {
   "cell_type": "code",
   "execution_count": 86,
   "id": "48533f37-1ff9-439a-95bf-a76481cfbe34",
   "metadata": {
    "tags": []
   },
   "outputs": [],
   "source": [
    "IMAGES_PATH = os.path.join('data', 'images')\n",
    "number_images = 20"
   ]
  },
  {
   "cell_type": "code",
   "execution_count": 87,
   "id": "11e8b6a1-e3f4-4d26-b4e0-d9e1485e4e77",
   "metadata": {
    "collapsed": true,
    "jupyter": {
     "outputs_hidden": true
    },
    "tags": []
   },
   "outputs": [
    {
     "name": "stdout",
     "output_type": "stream",
     "text": [
      "Collection image 0\n",
      "Collection image 1\n",
      "Collection image 2\n",
      "Collection image 3\n",
      "Collection image 4\n",
      "Collection image 5\n",
      "Collection image 6\n",
      "Collection image 7\n",
      "Collection image 8\n",
      "Collection image 9\n",
      "Collection image 10\n",
      "Collection image 11\n",
      "Collection image 12\n",
      "Collection image 13\n",
      "Collection image 14\n",
      "Collection image 15\n",
      "Collection image 16\n",
      "Collection image 17\n",
      "Collection image 18\n",
      "Collection image 19\n"
     ]
    }
   ],
   "source": [
    "cap = cv2.VideoCapture(0)\n",
    "for imgnum in range(number_images):\n",
    "    print('Collection image {}'.format(imgnum))\n",
    "    ret, frame = cap.read()\n",
    "    imgname = os.path.join(IMAGES_PATH, f'{str(uuid.uuid1())}.jpg')\n",
    "    cv2.imwrite(imgname, frame)\n",
    "    cv2.imshow('frame', frame)\n",
    "    time.sleep(0.5)\n",
    "    \n",
    "    if cv2.waitKey(1) & 0xFF == ord('q'):\n",
    "        break\n",
    "cap.release()\n",
    "cv2.destroyAllWindows()"
   ]
  },
  {
   "cell_type": "markdown",
   "id": "45e589eb-a1f0-4450-9516-87987b112c32",
   "metadata": {
    "jp-MarkdownHeadingCollapsed": true,
    "tags": []
   },
   "source": [
    "## 1.3 Annotate Images with LabelMe"
   ]
  },
  {
   "cell_type": "markdown",
   "id": "9f0737f1-cad9-41fc-9591-3725e503d57d",
   "metadata": {},
   "source": [
    "This command should run the package 'labelme'. \n",
    "\n",
    "In the prompt select a different output folder so the labels are saved in the correct folder.\n",
    "Also hit autosave so it saves automaticly."
   ]
  },
  {
   "cell_type": "code",
   "execution_count": 89,
   "id": "acffff42-fe62-4491-9f57-f27c5ef191fe",
   "metadata": {
    "tags": []
   },
   "outputs": [
    {
     "name": "stderr",
     "output_type": "stream",
     "text": [
      "[INFO   ] __init__:get_config:70 - Loading config file from: C:\\Users\\FRANC\\.labelmerc\n"
     ]
    }
   ],
   "source": [
    "!labelme"
   ]
  },
  {
   "cell_type": "markdown",
   "id": "00e8edb0-9b92-48f0-8404-20104bb4fbcc",
   "metadata": {},
   "source": [
    "# 2. Review Dataset and Build Image Loading Function"
   ]
  },
  {
   "cell_type": "markdown",
   "id": "6e5c2a83-f05b-47ff-97cf-4580db48d178",
   "metadata": {},
   "source": [
    "## 2.1 Import TF and Deps"
   ]
  },
  {
   "cell_type": "code",
   "execution_count": 9,
   "id": "b0cc4ead-d909-44f1-b6a7-e09bea5a6cf3",
   "metadata": {
    "tags": []
   },
   "outputs": [],
   "source": [
    "import tensorflow as tf\n",
    "import json # our labels are in json format\n",
    "import numpy as np\n",
    "from matplotlib import pyplot as plt"
   ]
  },
  {
   "cell_type": "markdown",
   "id": "5e12a102-2a5c-4b61-afed-8221f292fedf",
   "metadata": {
    "jp-MarkdownHeadingCollapsed": true,
    "tags": []
   },
   "source": [
    "## 2.2 Limit GPU Memory Growth"
   ]
  },
  {
   "cell_type": "code",
   "execution_count": 10,
   "id": "cf856322-8a90-40b8-a9d2-700290937507",
   "metadata": {
    "tags": []
   },
   "outputs": [],
   "source": [
    "# Avoid OOM errors by setting GPU Memory Consumption Growth\n",
    "gpus = tf.config.experimental.list_physical_devices('GPU')\n",
    "for gpu in gpus:\n",
    "    tf.config.experimental.set_memory_growth(gpu, True)"
   ]
  },
  {
   "cell_type": "code",
   "execution_count": 11,
   "id": "3347c5d9-c973-4f5f-8734-1145031c4d5c",
   "metadata": {
    "tags": []
   },
   "outputs": [
    {
     "data": {
      "text/plain": [
       "[PhysicalDevice(name='/physical_device:GPU:0', device_type='GPU')]"
      ]
     },
     "execution_count": 11,
     "metadata": {},
     "output_type": "execute_result"
    }
   ],
   "source": [
    "tf.config.list_physical_devices('GPU')"
   ]
  },
  {
   "cell_type": "markdown",
   "id": "fb39162b-b016-4bfc-9f90-4067f626089d",
   "metadata": {
    "jp-MarkdownHeadingCollapsed": true,
    "tags": []
   },
   "source": [
    "## 2.3 Load Image into TF Data Pipeline"
   ]
  },
  {
   "cell_type": "code",
   "execution_count": 44,
   "id": "21216078-ef83-4ad5-a91f-24aff3477afa",
   "metadata": {
    "tags": []
   },
   "outputs": [],
   "source": [
    "image_names = tf.data.Dataset.list_files('Data\\\\images\\\\*.jpg', shuffle=False)"
   ]
  },
  {
   "cell_type": "code",
   "execution_count": 45,
   "id": "8a70158b-dc2b-4404-8d4a-53a0bfe2d5c6",
   "metadata": {
    "tags": []
   },
   "outputs": [
    {
     "data": {
      "text/plain": [
       "b'Data\\\\images\\\\003d213c-3f5f-11ee-926d-5ce42a8c8f38.jpg'"
      ]
     },
     "execution_count": 45,
     "metadata": {},
     "output_type": "execute_result"
    }
   ],
   "source": [
    "image_names.as_numpy_iterator().next()"
   ]
  },
  {
   "cell_type": "code",
   "execution_count": 46,
   "id": "6df39076-344d-421a-a1a4-2043a8e113d0",
   "metadata": {
    "collapsed": true,
    "jupyter": {
     "outputs_hidden": true
    },
    "tags": []
   },
   "outputs": [
    {
     "name": "stdout",
     "output_type": "stream",
     "text": [
      "b'Data\\\\images\\\\003d213c-3f5f-11ee-926d-5ce42a8c8f38.jpg'\n",
      "b'Data\\\\images\\\\008baf2e-3f5f-11ee-8e88-5ce42a8c8f38.jpg'\n",
      "b'Data\\\\images\\\\00daeaf9-3f5f-11ee-a611-5ce42a8c8f38.jpg'\n",
      "b'Data\\\\images\\\\012ab70e-3f5f-11ee-93b0-5ce42a8c8f38.jpg'\n",
      "b'Data\\\\images\\\\01787553-3f5f-11ee-beb2-5ce42a8c8f38.jpg'\n",
      "b'Data\\\\images\\\\01c6c943-3f5f-11ee-915d-5ce42a8c8f38.jpg'\n",
      "b'Data\\\\images\\\\02147e2e-3f5f-11ee-a4af-5ce42a8c8f38.jpg'\n",
      "b'Data\\\\images\\\\02635b40-3f5f-11ee-80a9-5ce42a8c8f38.jpg'\n",
      "b'Data\\\\images\\\\02b22b02-3f5f-11ee-ac83-5ce42a8c8f38.jpg'\n",
      "b'Data\\\\images\\\\03011142-3f5f-11ee-97d9-5ce42a8c8f38.jpg'\n",
      "b'Data\\\\images\\\\034f723f-3f5f-11ee-81a9-5ce42a8c8f38.jpg'\n",
      "b'Data\\\\images\\\\03a0c781-3f5f-11ee-8a9a-5ce42a8c8f38.jpg'\n",
      "b'Data\\\\images\\\\03ef3058-3f5f-11ee-b4af-5ce42a8c8f38.jpg'\n",
      "b'Data\\\\images\\\\043d7f58-3f5f-11ee-8ffc-5ce42a8c8f38.jpg'\n",
      "b'Data\\\\images\\\\105e34ef-3f5f-11ee-a0c3-5ce42a8c8f38.jpg'\n",
      "b'Data\\\\images\\\\10ae797a-3f5f-11ee-87af-5ce42a8c8f38.jpg'\n",
      "b'Data\\\\images\\\\10fccffa-3f5f-11ee-bf3e-5ce42a8c8f38.jpg'\n",
      "b'Data\\\\images\\\\114ab099-3f5f-11ee-b123-5ce42a8c8f38.jpg'\n",
      "b'Data\\\\images\\\\119b2848-3f5f-11ee-9c9b-5ce42a8c8f38.jpg'\n",
      "b'Data\\\\images\\\\11e8c78e-3f5f-11ee-94b3-5ce42a8c8f38.jpg'\n",
      "b'Data\\\\images\\\\12369b03-3f5f-11ee-bd24-5ce42a8c8f38.jpg'\n",
      "b'Data\\\\images\\\\1286b484-3f5f-11ee-8b7b-5ce42a8c8f38.jpg'\n",
      "b'Data\\\\images\\\\12d592a9-3f5f-11ee-abc4-5ce42a8c8f38.jpg'\n",
      "b'Data\\\\images\\\\1323e38b-3f5f-11ee-8b32-5ce42a8c8f38.jpg'\n",
      "b'Data\\\\images\\\\1371fca6-3f5f-11ee-b581-5ce42a8c8f38.jpg'\n",
      "b'Data\\\\images\\\\13c10156-3f5f-11ee-b1bc-5ce42a8c8f38.jpg'\n",
      "b'Data\\\\images\\\\14117899-3f5f-11ee-9900-5ce42a8c8f38.jpg'\n",
      "b'Data\\\\images\\\\145f4339-3f5f-11ee-bbfa-5ce42a8c8f38.jpg'\n",
      "b'Data\\\\images\\\\14af3584-3f5f-11ee-809e-5ce42a8c8f38.jpg'\n",
      "b'Data\\\\images\\\\14ff0e93-3f5f-11ee-a324-5ce42a8c8f38.jpg'\n",
      "b'Data\\\\images\\\\154efac6-3f5f-11ee-a299-5ce42a8c8f38.jpg'\n",
      "b'Data\\\\images\\\\159ca125-3f5f-11ee-b277-5ce42a8c8f38.jpg'\n",
      "b'Data\\\\images\\\\15eaa2e5-3f5f-11ee-9034-5ce42a8c8f38.jpg'\n",
      "b'Data\\\\images\\\\1638ff3e-3f5f-11ee-a522-5ce42a8c8f38.jpg'\n",
      "b'Data\\\\images\\\\1686f81c-3f5f-11ee-9387-5ce42a8c8f38.jpg'\n",
      "b'Data\\\\images\\\\16d4dbd1-3f5f-11ee-ae97-5ce42a8c8f38.jpg'\n",
      "b'Data\\\\images\\\\1723679c-3f5f-11ee-b49c-5ce42a8c8f38.jpg'\n",
      "b'Data\\\\images\\\\17725432-3f5f-11ee-9c99-5ce42a8c8f38.jpg'\n",
      "b'Data\\\\images\\\\17c31472-3f5f-11ee-af1a-5ce42a8c8f38.jpg'\n",
      "b'Data\\\\images\\\\181165a4-3f5f-11ee-902a-5ce42a8c8f38.jpg'\n",
      "b'Data\\\\images\\\\185fc85a-3f5f-11ee-b0c2-5ce42a8c8f38.jpg'\n",
      "b'Data\\\\images\\\\18aee41a-3f5f-11ee-950e-5ce42a8c8f38.jpg'\n",
      "b'Data\\\\images\\\\18fdb61c-3f5f-11ee-8f5e-5ce42a8c8f38.jpg'\n",
      "b'Data\\\\images\\\\194c98c1-3f5f-11ee-81cd-5ce42a8c8f38.jpg'\n",
      "b'Data\\\\images\\\\292a435d-3f5f-11ee-9648-5ce42a8c8f38.jpg'\n",
      "b'Data\\\\images\\\\297ab1df-3f5f-11ee-a409-5ce42a8c8f38.jpg'\n",
      "b'Data\\\\images\\\\29c8a5b9-3f5f-11ee-983c-5ce42a8c8f38.jpg'\n",
      "b'Data\\\\images\\\\2a1699b7-3f5f-11ee-b8cd-5ce42a8c8f38.jpg'\n",
      "b'Data\\\\images\\\\2a66ff46-3f5f-11ee-b790-5ce42a8c8f38.jpg'\n",
      "b'Data\\\\images\\\\2ab4bbc0-3f5f-11ee-87c5-5ce42a8c8f38.jpg'\n",
      "b'Data\\\\images\\\\2b037e45-3f5f-11ee-bba3-5ce42a8c8f38.jpg'\n",
      "b'Data\\\\images\\\\2b5295c5-3f5f-11ee-bf6a-5ce42a8c8f38.jpg'\n",
      "b'Data\\\\images\\\\2ba136e5-3f5f-11ee-9fca-5ce42a8c8f38.jpg'\n",
      "b'Data\\\\images\\\\2befba7c-3f5f-11ee-9796-5ce42a8c8f38.jpg'\n",
      "b'Data\\\\images\\\\2c3dc02f-3f5f-11ee-9a48-5ce42a8c8f38.jpg'\n",
      "b'Data\\\\images\\\\2c8c132f-3f5f-11ee-a64b-5ce42a8c8f38.jpg'\n",
      "b'Data\\\\images\\\\2cda9297-3f5f-11ee-87a2-5ce42a8c8f38.jpg'\n",
      "b'Data\\\\images\\\\2d29a8ed-3f5f-11ee-8f59-5ce42a8c8f38.jpg'\n",
      "b'Data\\\\images\\\\2d781f74-3f5f-11ee-8ac8-5ce42a8c8f38.jpg'\n",
      "b'Data\\\\images\\\\2dc6e26b-3f5f-11ee-8c21-5ce42a8c8f38.jpg'\n",
      "b'Data\\\\images\\\\2e15936c-3f5f-11ee-83b1-5ce42a8c8f38.jpg'\n",
      "b'Data\\\\images\\\\2e63f3b1-3f5f-11ee-8198-5ce42a8c8f38.jpg'\n",
      "b'Data\\\\images\\\\2eb2632b-3f5f-11ee-8746-5ce42a8c8f38.jpg'\n",
      "b'Data\\\\images\\\\2f01631f-3f5f-11ee-8ed2-5ce42a8c8f38.jpg'\n",
      "b'Data\\\\images\\\\2f504664-3f5f-11ee-a696-5ce42a8c8f38.jpg'\n",
      "b'Data\\\\images\\\\2f9ee9db-3f5f-11ee-ae26-5ce42a8c8f38.jpg'\n",
      "b'Data\\\\images\\\\2feea383-3f5f-11ee-8924-5ce42a8c8f38.jpg'\n",
      "b'Data\\\\images\\\\303c6ebc-3f5f-11ee-8ce7-5ce42a8c8f38.jpg'\n",
      "b'Data\\\\images\\\\308be111-3f5f-11ee-8d03-5ce42a8c8f38.jpg'\n",
      "b'Data\\\\images\\\\30db778c-3f5f-11ee-8679-5ce42a8c8f38.jpg'\n",
      "b'Data\\\\images\\\\312ae295-3f5f-11ee-bcd3-5ce42a8c8f38.jpg'\n",
      "b'Data\\\\images\\\\317a0587-3f5f-11ee-bb03-5ce42a8c8f38.jpg'\n",
      "b'Data\\\\images\\\\31c7c581-3f5f-11ee-b2bc-5ce42a8c8f38.jpg'\n",
      "b'Data\\\\images\\\\32166d3f-3f5f-11ee-a70b-5ce42a8c8f38.jpg'\n",
      "b'Data\\\\images\\\\fb50b6de-3f5e-11ee-9f85-5ce42a8c8f38.jpg'\n",
      "b'Data\\\\images\\\\fba1b414-3f5e-11ee-bdd4-5ce42a8c8f38.jpg'\n",
      "b'Data\\\\images\\\\fbf03277-3f5e-11ee-9f82-5ce42a8c8f38.jpg'\n",
      "b'Data\\\\images\\\\fc3f241a-3f5e-11ee-bbb2-5ce42a8c8f38.jpg'\n",
      "b'Data\\\\images\\\\fc900a7d-3f5e-11ee-aba7-5ce42a8c8f38.jpg'\n",
      "b'Data\\\\images\\\\fcdde0d1-3f5e-11ee-8cff-5ce42a8c8f38.jpg'\n",
      "b'Data\\\\images\\\\fd2e0e99-3f5e-11ee-94ba-5ce42a8c8f38.jpg'\n",
      "b'Data\\\\images\\\\fd7bcf78-3f5e-11ee-ab6d-5ce42a8c8f38.jpg'\n",
      "b'Data\\\\images\\\\fdc9e7ff-3f5e-11ee-beea-5ce42a8c8f38.jpg'\n",
      "b'Data\\\\images\\\\fe17d3b8-3f5e-11ee-a720-5ce42a8c8f38.jpg'\n",
      "b'Data\\\\images\\\\fe66ef7c-3f5e-11ee-94a7-5ce42a8c8f38.jpg'\n",
      "b'Data\\\\images\\\\feb4f01e-3f5e-11ee-aea8-5ce42a8c8f38.jpg'\n",
      "b'Data\\\\images\\\\ff0363fa-3f5e-11ee-b2a8-5ce42a8c8f38.jpg'\n",
      "b'Data\\\\images\\\\ff5170c3-3f5e-11ee-a2e3-5ce42a8c8f38.jpg'\n",
      "b'Data\\\\images\\\\ffa02ca6-3f5e-11ee-acd3-5ce42a8c8f38.jpg'\n",
      "b'Data\\\\images\\\\ffef0c54-3f5e-11ee-aeba-5ce42a8c8f38.jpg'\n"
     ]
    }
   ],
   "source": [
    "for element in image_names.as_numpy_iterator():\n",
    "    print(element)"
   ]
  },
  {
   "cell_type": "code",
   "execution_count": 47,
   "id": "93e3fd80-ba82-4445-a399-e206a98ddc51",
   "metadata": {
    "tags": []
   },
   "outputs": [],
   "source": [
    "def load_image(x):\n",
    "    byte_img = tf.io.read_file(x)\n",
    "    img = tf.io.decode_jpeg(byte_img)\n",
    "    return img"
   ]
  },
  {
   "cell_type": "code",
   "execution_count": 54,
   "id": "00b05eb7-8845-415b-bc83-962ca33d45ed",
   "metadata": {
    "tags": []
   },
   "outputs": [],
   "source": [
    "images = image_names.map(load_image) # images is a list of different arrays not one single big array (images[0] n.l)"
   ]
  },
  {
   "cell_type": "code",
   "execution_count": 56,
   "id": "2d4b4b1e-fe87-4d2a-b841-4a04c1008e3b",
   "metadata": {
    "collapsed": true,
    "jupyter": {
     "outputs_hidden": true
    },
    "tags": []
   },
   "outputs": [
    {
     "data": {
      "text/plain": [
       "array([[[ 89,  90,  74],\n",
       "        [ 89,  90,  74],\n",
       "        [ 89,  90,  74],\n",
       "        ...,\n",
       "        [141, 143, 138],\n",
       "        [145, 147, 142],\n",
       "        [149, 151, 146]],\n",
       "\n",
       "       [[ 86,  87,  71],\n",
       "        [ 87,  88,  72],\n",
       "        [ 89,  90,  74],\n",
       "        ...,\n",
       "        [141, 143, 138],\n",
       "        [146, 148, 143],\n",
       "        [150, 152, 147]],\n",
       "\n",
       "       [[ 85,  86,  70],\n",
       "        [ 87,  88,  72],\n",
       "        [ 88,  89,  73],\n",
       "        ...,\n",
       "        [141, 146, 140],\n",
       "        [144, 149, 143],\n",
       "        [148, 153, 147]],\n",
       "\n",
       "       ...,\n",
       "\n",
       "       [[ 12,  15,   4],\n",
       "        [ 14,  17,   6],\n",
       "        [ 15,  18,   7],\n",
       "        ...,\n",
       "        [149, 151, 140],\n",
       "        [150, 151, 143],\n",
       "        [151, 152, 144]],\n",
       "\n",
       "       [[ 12,  15,   4],\n",
       "        [ 14,  17,   6],\n",
       "        [ 14,  18,   4],\n",
       "        ...,\n",
       "        [148, 150, 139],\n",
       "        [149, 151, 140],\n",
       "        [150, 152, 141]],\n",
       "\n",
       "       [[ 13,  16,   5],\n",
       "        [ 15,  18,   7],\n",
       "        [ 15,  19,   5],\n",
       "        ...,\n",
       "        [147, 149, 138],\n",
       "        [148, 150, 139],\n",
       "        [149, 151, 140]]], dtype=uint8)"
      ]
     },
     "execution_count": 56,
     "metadata": {},
     "output_type": "execute_result"
    }
   ],
   "source": [
    "images.as_numpy_iterator().next()"
   ]
  },
  {
   "cell_type": "code",
   "execution_count": 80,
   "id": "8b8a49ce-0dd6-433f-889b-d2242d1ac99d",
   "metadata": {
    "tags": []
   },
   "outputs": [
    {
     "data": {
      "text/plain": [
       "tensorflow.python.data.ops.dataset_ops.MapDataset"
      ]
     },
     "execution_count": 80,
     "metadata": {},
     "output_type": "execute_result"
    }
   ],
   "source": [
    "type(images) # whats the difference?"
   ]
  },
  {
   "cell_type": "markdown",
   "id": "fcdcb391-621e-4f71-b03c-970996eeea61",
   "metadata": {
    "tags": []
   },
   "source": [
    "## 2.4 View Raw Images with Matplotlib"
   ]
  },
  {
   "cell_type": "code",
   "execution_count": 70,
   "id": "3c3b6670-6a3b-4393-9d92-6439c009e7e5",
   "metadata": {
    "tags": []
   },
   "outputs": [],
   "source": [
    "image_generator = images.batch(4).as_numpy_iterator() # put the data into batches of 4"
   ]
  },
  {
   "cell_type": "code",
   "execution_count": 78,
   "id": "4b58255f-f600-415d-ba6c-b230344d66be",
   "metadata": {
    "tags": []
   },
   "outputs": [],
   "source": [
    "plot_images = image_generator.next()"
   ]
  },
  {
   "cell_type": "code",
   "execution_count": null,
   "id": "9866701c-172b-4388-8de5-aae324b22a15",
   "metadata": {
    "tags": []
   },
   "outputs": [],
   "source": [
    "fig, ax = plt.subplots(ncols=4, figsize=(20, 20))\n",
    "for idx, image in enumerate(plot_images):\n",
    "    ax[idx].imshow(image)\n",
    "plt.show()"
   ]
  },
  {
   "cell_type": "markdown",
   "id": "38fa0150-6126-428f-9f70-09256ab0dbca",
   "metadata": {},
   "source": [
    "# 3. Partition Unaugmented Data"
   ]
  },
  {
   "cell_type": "markdown",
   "id": "9e2aa58a-05c0-4d60-a2d5-504f71f83e8c",
   "metadata": {
    "tags": []
   },
   "source": [
    "## 3.1 Manually split data into train test and val"
   ]
  },
  {
   "cell_type": "markdown",
   "id": "72b2c580-6410-40a2-9eb2-ab85974b9a18",
   "metadata": {},
   "source": [
    "Train: 71 images <br>\n",
    "Test: 21 images <br>\n",
    "Val: 19 images"
   ]
  },
  {
   "cell_type": "markdown",
   "id": "63d16b6f-2f72-472f-9d29-2383a6dd6bfc",
   "metadata": {
    "jp-MarkdownHeadingCollapsed": true,
    "tags": []
   },
   "source": [
    "## 3.2 Move the Matching Labels"
   ]
  },
  {
   "cell_type": "code",
   "execution_count": 5,
   "id": "27d8ba72-e91c-4ceb-8568-b3e3b1ae1676",
   "metadata": {
    "tags": []
   },
   "outputs": [],
   "source": [
    "for folder in ['train', 'test', 'val']:\n",
    "    for file in os.listdir(os.path.join('Data', folder, 'images')):\n",
    "        \n",
    "        filename = file.split('.')[0]+'.json'\n",
    "        existing_filepath = os.path.join('Data', 'labels', filename)\n",
    "        if os.path.exists(existing_filepath):\n",
    "            new_filepath = os.path.join('Data', folder, 'labels', filename)\n",
    "            os.replace(existing_filepath, new_filepath)"
   ]
  },
  {
   "cell_type": "markdown",
   "id": "1df0fb0e-b352-46ec-b405-4a0b6966084c",
   "metadata": {
    "tags": []
   },
   "source": [
    "# 4. Apply Image Augmentation on Images and Labels using Albumentations"
   ]
  },
  {
   "cell_type": "code",
   "execution_count": 10,
   "id": "d669b925-4c0f-46c1-8e19-c572ad020960",
   "metadata": {
    "tags": []
   },
   "outputs": [],
   "source": [
    "import albumentations as alb"
   ]
  }
 ],
 "metadata": {
  "kernelspec": {
   "display_name": "Python 3 (ipykernel)",
   "language": "python",
   "name": "python3"
  },
  "language_info": {
   "codemirror_mode": {
    "name": "ipython",
    "version": 3
   },
   "file_extension": ".py",
   "mimetype": "text/x-python",
   "name": "python",
   "nbconvert_exporter": "python",
   "pygments_lexer": "ipython3",
   "version": "3.10.12"
  }
 },
 "nbformat": 4,
 "nbformat_minor": 5
}
