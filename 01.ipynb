{
  "nbformat": 4,
  "nbformat_minor": 0,
  "metadata": {
    "colab": {
      "provenance": [],
      "authorship_tag": "ABX9TyNj+9kTNonE5xgT21zY7p4t",
      "include_colab_link": true
    },
    "kernelspec": {
      "name": "python3",
      "display_name": "Python 3"
    },
    "language_info": {
      "name": "python"
    }
  },
  "cells": [
    {
      "cell_type": "markdown",
      "metadata": {
        "id": "view-in-github",
        "colab_type": "text"
      },
      "source": [
        "<a href=\"https://colab.research.google.com/github/Franulo/DeepLearningJourney/blob/main/01.ipynb\" target=\"_parent\"><img src=\"https://colab.research.google.com/assets/colab-badge.svg\" alt=\"Open In Colab\"/></a>"
      ]
    },
    {
      "cell_type": "code",
      "execution_count": 2,
      "metadata": {
        "id": "PBm_icc3j7lL"
      },
      "outputs": [],
      "source": [
        "import tensorflow as tf\n",
        "import numpy as np\n",
        "import matplotlib.pyplot as plt # for Diagramms"
      ]
    },
    {
      "cell_type": "code",
      "source": [
        "tensor = tf.constant([1, 2, 3])\n",
        "print(tf.__version__)\n",
        "tensor.shape"
      ],
      "metadata": {
        "colab": {
          "base_uri": "https://localhost:8080/"
        },
        "id": "QrU-ytihDt5G",
        "outputId": "fd73a2cd-3269-4dd0-f411-5d01a25e77fc"
      },
      "execution_count": 3,
      "outputs": [
        {
          "output_type": "stream",
          "name": "stdout",
          "text": [
            "2.12.0\n"
          ]
        },
        {
          "output_type": "execute_result",
          "data": {
            "text/plain": [
              "TensorShape([3])"
            ]
          },
          "metadata": {},
          "execution_count": 3
        }
      ]
    },
    {
      "cell_type": "markdown",
      "source": [
        "# Neural Network Regression with TensorFlow\n",
        "\n",
        "There are many definitions for a regression problem but in our case, we're going to simplify it to be: predicting a number."
      ],
      "metadata": {
        "id": "3xtNMJDfJVFi"
      }
    },
    {
      "cell_type": "markdown",
      "source": [
        "## Creating data to view and fit"
      ],
      "metadata": {
        "id": "4hvgnkd9Lxc6"
      }
    },
    {
      "cell_type": "code",
      "source": [
        "# Create features\n",
        "X = np.array([-7.0, -4.0, -1.0, 2.0, 5.0, 8.0, 11.0, 14.0])\n",
        "\n",
        "# Create labels\n",
        "y = np.array([3.0, 6.0, 9.0, 12.0, 15.0, 18.0, 21.0, 24.0])\n",
        "\n",
        "# Visualize it\n",
        "plt.scatter(X, y)"
      ],
      "metadata": {
        "id": "2H230ywEMU2J",
        "colab": {
          "base_uri": "https://localhost:8080/",
          "height": 452
        },
        "outputId": "df25b59e-f992-4ab6-afa3-40683d6111d9"
      },
      "execution_count": 4,
      "outputs": [
        {
          "output_type": "execute_result",
          "data": {
            "text/plain": [
              "<matplotlib.collections.PathCollection at 0x7f0029d6bb20>"
            ]
          },
          "metadata": {},
          "execution_count": 4
        },
        {
          "output_type": "display_data",
          "data": {
            "text/plain": [
              "<Figure size 640x480 with 1 Axes>"
            ],
            "image/png": "[encoded data removed]"
          },
          "metadata": {}
        }
      ]
    },
    {
      "cell_type": "code",
      "source": [
        "y == X + 10"
      ],
      "metadata": {
        "colab": {
          "base_uri": "https://localhost:8080/"
        },
        "id": "UdQ0cjkS9Gx8",
        "outputId": "8dda968e-b594-4d3f-f077-10f5eae05fd9"
      },
      "execution_count": 5,
      "outputs": [
        {
          "output_type": "execute_result",
          "data": {
            "text/plain": [
              "array([ True,  True,  True,  True,  True,  True,  True,  True])"
            ]
          },
          "metadata": {},
          "execution_count": 5
        }
      ]
    },
    {
      "cell_type": "markdown",
      "source": [
        "## Input and Output shapes"
      ],
      "metadata": {
        "id": "JOpog2Q99q7O"
      }
    },
    {
      "cell_type": "code",
      "source": [
        "# Create a demo tensor for our housing price prediction problem\n",
        "house_info = tf.constant([\"bedroom\", \"bathroom\", \"garage\"])\n",
        "house_price = tf.constant([939700])\n",
        "house_info.shape, house_price.shape"
      ],
      "metadata": {
        "colab": {
          "base_uri": "https://localhost:8080/"
        },
        "id": "Br64Z2BK9y1B",
        "outputId": "d4cb074e-6576-4975-9823-4ff4fc5b1627"
      },
      "execution_count": 6,
      "outputs": [
        {
          "output_type": "execute_result",
          "data": {
            "text/plain": [
              "(TensorShape([3]), TensorShape([1]))"
            ]
          },
          "metadata": {},
          "execution_count": 6
        }
      ]
    },
    {
      "cell_type": "code",
      "source": [
        "input_shape = X[0].shape\n",
        "output_shape = y[0].shape\n",
        "input_shape, output_shape"
      ],
      "metadata": {
        "colab": {
          "base_uri": "https://localhost:8080/"
        },
        "id": "Qq0t7fUv-0EJ",
        "outputId": "1ece69db-8187-4e39-df75-066b61dc15f9"
      },
      "execution_count": 7,
      "outputs": [
        {
          "output_type": "execute_result",
          "data": {
            "text/plain": [
              "((), ())"
            ]
          },
          "metadata": {},
          "execution_count": 7
        }
      ]
    },
    {
      "cell_type": "code",
      "source": [
        "# Turn our NumPy arrays into tensors\n",
        "X = tf.cast(tf.constant(X), dtype=tf.float32)\n",
        "y = tf.cast(tf.constant(y), dtype=tf.float32)\n",
        "X, y"
      ],
      "metadata": {
        "colab": {
          "base_uri": "https://localhost:8080/"
        },
        "id": "o6__2mJb_3Y_",
        "outputId": "496f3d46-9fac-48d4-f69e-659210a7e223"
      },
      "execution_count": 8,
      "outputs": [
        {
          "output_type": "execute_result",
          "data": {
            "text/plain": [
              "(<tf.Tensor: shape=(8,), dtype=float32, numpy=array([-7., -4., -1.,  2.,  5.,  8., 11., 14.], dtype=float32)>,\n",
              " <tf.Tensor: shape=(8,), dtype=float32, numpy=array([ 3.,  6.,  9., 12., 15., 18., 21., 24.], dtype=float32)>)"
            ]
          },
          "metadata": {},
          "execution_count": 8
        }
      ]
    },
    {
      "cell_type": "code",
      "source": [
        "input_shape = X[0].shape\n",
        "output_shape = y[0].shape\n",
        "input_shape, output_shape"
      ],
      "metadata": {
        "colab": {
          "base_uri": "https://localhost:8080/"
        },
        "id": "V4HuY23xAFkS",
        "outputId": "77968c61-7cfd-4383-e08e-948a33e1b1a7"
      },
      "execution_count": 9,
      "outputs": [
        {
          "output_type": "execute_result",
          "data": {
            "text/plain": [
              "(TensorShape([]), TensorShape([]))"
            ]
          },
          "metadata": {},
          "execution_count": 9
        }
      ]
    },
    {
      "cell_type": "code",
      "source": [
        "plt.scatter(X, y)"
      ],
      "metadata": {
        "colab": {
          "base_uri": "https://localhost:8080/",
          "height": 452
        },
        "id": "j62KDKuLAO4Q",
        "outputId": "84104b3c-b60b-4858-d4c0-9da5c783dbb4"
      },
      "execution_count": 10,
      "outputs": [
        {
          "output_type": "execute_result",
          "data": {
            "text/plain": [
              "<matplotlib.collections.PathCollection at 0x7f00282466b0>"
            ]
          },
          "metadata": {},
          "execution_count": 10
        },
        {
          "output_type": "display_data",
          "data": {
            "text/plain": [
              "<Figure size 640x480 with 1 Axes>"
            ],
            "image/png": "[encoded data removed]"
          },
          "metadata": {}
        }
      ]
    },
    {
      "cell_type": "markdown",
      "source": [
        "## Steps in modelling with TensorFlow\n",
        "\n",
        "1. **Creating a model** - define the input and output layers, as well as the hidden layers of a deep learning model.\n",
        "2. **Compiling a  model** - define the loss function (in other words, the function which tells our model how wrong it is) and the optimizer (tells our model how to improve the patterns its learning) and evaluation metrics (what we can use to interpret the performance of our model).\n",
        "3. **Fitting a model** - letting the model try to find patterns between X & y (features and labels)"
      ],
      "metadata": {
        "id": "6ibOBu1hASsr"
      }
    },
    {
      "cell_type": "code",
      "source": [
        "# Set random seed\n",
        "tf.random.set_seed(42)\n",
        "\n",
        "# 1. Create a model using the Sequential API\n",
        "model = tf.keras.Sequential([\n",
        "    tf.keras.layers.Dense(1)\n",
        "])\n",
        "\n",
        "# 2. Compile the model\n",
        "model.compile(loss=tf.keras.losses.mae, # mae is short for mean absolute error\n",
        "              optimizer=tf.keras.optimizers.SGD(), # sgd is short for stochastic gradient descent\n",
        "              metrics=[\"mae\"])\n",
        "\n",
        "# 3. Fit the model\n",
        "model.fit(tf.expand_dims(X, axis=-1), y, epochs=200)\n"
      ],
      "metadata": {
        "id": "VMG8HeMlCLJ5",
        "colab": {
          "base_uri": "https://localhost:8080/"
        },
        "outputId": "d5fb6d59-9fb2-4899-885f-fb56d29db51e"
      },
      "execution_count": 11,
      "outputs": [
        {
          "output_type": "stream",
          "name": "stdout",
          "text": [
            "Epoch 1/200\n",
            "1/1 [==============================] - 1s 562ms/step - loss: 21.9099 - mae: 21.9099\n",
            "Epoch 2/200\n",
            "1/1 [==============================] - 0s 8ms/step - loss: 21.5168 - mae: 21.5168\n",
            "Epoch 3/200\n",
            "1/1 [==============================] - 0s 9ms/step - loss: 21.1237 - mae: 21.1237\n",
            "Epoch 4/200\n",
            "1/1 [==============================] - 0s 12ms/step - loss: 20.7305 - mae: 20.7305\n",
            "Epoch 5/200\n",
            "1/1 [==============================] - 0s 10ms/step - loss: 20.3768 - mae: 20.3768\n",
            "Epoch 6/200\n",
            "1/1 [==============================] - 0s 11ms/step - loss: 20.0956 - mae: 20.0956\n",
            "Epoch 7/200\n",
            "1/1 [==============================] - 0s 9ms/step - loss: 19.8143 - mae: 19.8143\n",
            "Epoch 8/200\n",
            "1/1 [==============================] - 0s 9ms/step - loss: 19.5331 - mae: 19.5331\n",
            "Epoch 9/200\n",
            "1/1 [==============================] - 0s 8ms/step - loss: 19.2518 - mae: 19.2518\n",
            "Epoch 10/200\n",
            "1/1 [==============================] - 0s 9ms/step - loss: 18.9706 - mae: 18.9706\n",
            "Epoch 11/200\n",
            "1/1 [==============================] - 0s 9ms/step - loss: 18.6893 - mae: 18.6893\n",
            "Epoch 12/200\n",
            "1/1 [==============================] - 0s 9ms/step - loss: 18.4081 - mae: 18.4081\n",
            "Epoch 13/200\n",
            "1/1 [==============================] - 0s 9ms/step - loss: 18.1268 - mae: 18.1268\n",
            "Epoch 14/200\n",
            "1/1 [==============================] - 0s 8ms/step - loss: 17.8456 - mae: 17.8456\n",
            "Epoch 15/200\n",
            "1/1 [==============================] - 0s 9ms/step - loss: 17.5643 - mae: 17.5643\n",
            "Epoch 16/200\n",
            "1/1 [==============================] - 0s 9ms/step - loss: 17.2831 - mae: 17.2831\n",
            "Epoch 17/200\n",
            "1/1 [==============================] - 0s 10ms/step - loss: 17.0018 - mae: 17.0018\n",
            "Epoch 18/200\n",
            "1/1 [==============================] - 0s 9ms/step - loss: 16.7206 - mae: 16.7206\n",
            "Epoch 19/200\n",
            "1/1 [==============================] - 0s 11ms/step - loss: 16.4393 - mae: 16.4393\n",
            "Epoch 20/200\n",
            "1/1 [==============================] - 0s 13ms/step - loss: 16.1581 - mae: 16.1581\n",
            "Epoch 21/200\n",
            "1/1 [==============================] - 0s 12ms/step - loss: 15.8768 - mae: 15.8768\n",
            "Epoch 22/200\n",
            "1/1 [==============================] - 0s 10ms/step - loss: 15.5956 - mae: 15.5956\n",
            "Epoch 23/200\n",
            "1/1 [==============================] - 0s 10ms/step - loss: 15.3143 - mae: 15.3143\n",
            "Epoch 24/200\n",
            "1/1 [==============================] - 0s 10ms/step - loss: 15.0331 - mae: 15.0331\n",
            "Epoch 25/200\n",
            "1/1 [==============================] - 0s 10ms/step - loss: 14.7518 - mae: 14.7518\n",
            "Epoch 26/200\n",
            "1/1 [==============================] - 0s 10ms/step - loss: 14.5583 - mae: 14.5583\n",
            "Epoch 27/200\n",
            "1/1 [==============================] - 0s 9ms/step - loss: 14.4258 - mae: 14.4258\n",
            "Epoch 28/200\n",
            "1/1 [==============================] - 0s 10ms/step - loss: 14.2933 - mae: 14.2933\n",
            "Epoch 29/200\n",
            "1/1 [==============================] - 0s 10ms/step - loss: 14.1608 - mae: 14.1608\n",
            "Epoch 30/200\n",
            "1/1 [==============================] - 0s 10ms/step - loss: 14.0283 - mae: 14.0283\n",
            "Epoch 31/200\n",
            "1/1 [==============================] - 0s 10ms/step - loss: 13.8958 - mae: 13.8958\n",
            "Epoch 32/200\n",
            "1/1 [==============================] - 0s 9ms/step - loss: 13.7633 - mae: 13.7633\n",
            "Epoch 33/200\n",
            "1/1 [==============================] - 0s 13ms/step - loss: 13.6308 - mae: 13.6308\n",
            "Epoch 34/200\n",
            "1/1 [==============================] - 0s 12ms/step - loss: 13.4983 - mae: 13.4983\n",
            "Epoch 35/200\n",
            "1/1 [==============================] - 0s 12ms/step - loss: 13.3658 - mae: 13.3658\n",
            "Epoch 36/200\n",
            "1/1 [==============================] - 0s 13ms/step - loss: 13.2333 - mae: 13.2333\n",
            "Epoch 37/200\n",
            "1/1 [==============================] - 0s 12ms/step - loss: 13.1008 - mae: 13.1008\n",
            "Epoch 38/200\n",
            "1/1 [==============================] - 0s 9ms/step - loss: 12.9683 - mae: 12.9683\n",
            "Epoch 39/200\n",
            "1/1 [==============================] - 0s 11ms/step - loss: 12.8358 - mae: 12.8358\n",
            "Epoch 40/200\n",
            "1/1 [==============================] - 0s 9ms/step - loss: 12.7033 - mae: 12.7033\n",
            "Epoch 41/200\n",
            "1/1 [==============================] - 0s 9ms/step - loss: 12.5708 - mae: 12.5708\n",
            "Epoch 42/200\n",
            "1/1 [==============================] - 0s 11ms/step - loss: 12.4383 - mae: 12.4383\n",
            "Epoch 43/200\n",
            "1/1 [==============================] - 0s 9ms/step - loss: 12.3058 - mae: 12.3058\n",
            "Epoch 44/200\n",
            "1/1 [==============================] - 0s 8ms/step - loss: 12.1733 - mae: 12.1733\n",
            "Epoch 45/200\n",
            "1/1 [==============================] - 0s 9ms/step - loss: 12.0408 - mae: 12.0408\n",
            "Epoch 46/200\n",
            "1/1 [==============================] - 0s 10ms/step - loss: 11.9083 - mae: 11.9083\n",
            "Epoch 47/200\n",
            "1/1 [==============================] - 0s 10ms/step - loss: 11.7758 - mae: 11.7758\n",
            "Epoch 48/200\n",
            "1/1 [==============================] - 0s 11ms/step - loss: 11.6433 - mae: 11.6433\n",
            "Epoch 49/200\n",
            "1/1 [==============================] - 0s 10ms/step - loss: 11.5108 - mae: 11.5108\n",
            "Epoch 50/200\n",
            "1/1 [==============================] - 0s 12ms/step - loss: 11.3783 - mae: 11.3783\n",
            "Epoch 51/200\n",
            "1/1 [==============================] - 0s 10ms/step - loss: 11.2458 - mae: 11.2458\n",
            "Epoch 52/200\n",
            "1/1 [==============================] - 0s 10ms/step - loss: 11.1133 - mae: 11.1133\n",
            "Epoch 53/200\n",
            "1/1 [==============================] - 0s 11ms/step - loss: 10.9808 - mae: 10.9808\n",
            "Epoch 54/200\n",
            "1/1 [==============================] - 0s 11ms/step - loss: 10.8483 - mae: 10.8483\n",
            "Epoch 55/200\n",
            "1/1 [==============================] - 0s 10ms/step - loss: 10.7158 - mae: 10.7158\n",
            "Epoch 56/200\n",
            "1/1 [==============================] - 0s 10ms/step - loss: 10.5833 - mae: 10.5833\n",
            "Epoch 57/200\n",
            "1/1 [==============================] - 0s 10ms/step - loss: 10.4508 - mae: 10.4508\n",
            "Epoch 58/200\n",
            "1/1 [==============================] - 0s 10ms/step - loss: 10.3183 - mae: 10.3183\n",
            "Epoch 59/200\n",
            "1/1 [==============================] - 0s 10ms/step - loss: 10.1858 - mae: 10.1858\n",
            "Epoch 60/200\n",
            "1/1 [==============================] - 0s 9ms/step - loss: 10.0533 - mae: 10.0533\n",
            "Epoch 61/200\n",
            "1/1 [==============================] - 0s 10ms/step - loss: 9.9208 - mae: 9.9208\n",
            "Epoch 62/200\n",
            "1/1 [==============================] - 0s 8ms/step - loss: 9.7883 - mae: 9.7883\n",
            "Epoch 63/200\n",
            "1/1 [==============================] - 0s 9ms/step - loss: 9.6558 - mae: 9.6558\n",
            "Epoch 64/200\n",
            "1/1 [==============================] - 0s 9ms/step - loss: 9.5233 - mae: 9.5233\n",
            "Epoch 65/200\n",
            "1/1 [==============================] - 0s 9ms/step - loss: 9.3908 - mae: 9.3908\n",
            "Epoch 66/200\n",
            "1/1 [==============================] - 0s 9ms/step - loss: 9.2583 - mae: 9.2583\n",
            "Epoch 67/200\n",
            "1/1 [==============================] - 0s 10ms/step - loss: 9.1258 - mae: 9.1258\n",
            "Epoch 68/200\n",
            "1/1 [==============================] - 0s 10ms/step - loss: 8.9933 - mae: 8.9933\n",
            "Epoch 69/200\n",
            "1/1 [==============================] - 0s 9ms/step - loss: 8.8608 - mae: 8.8608\n",
            "Epoch 70/200\n",
            "1/1 [==============================] - 0s 9ms/step - loss: 8.7283 - mae: 8.7283\n",
            "Epoch 71/200\n",
            "1/1 [==============================] - 0s 9ms/step - loss: 8.5958 - mae: 8.5958\n",
            "Epoch 72/200\n",
            "1/1 [==============================] - 0s 10ms/step - loss: 8.4633 - mae: 8.4633\n",
            "Epoch 73/200\n",
            "1/1 [==============================] - 0s 10ms/step - loss: 8.3308 - mae: 8.3308\n",
            "Epoch 74/200\n",
            "1/1 [==============================] - 0s 9ms/step - loss: 8.1983 - mae: 8.1983\n",
            "Epoch 75/200\n",
            "1/1 [==============================] - 0s 10ms/step - loss: 8.0658 - mae: 8.0658\n",
            "Epoch 76/200\n",
            "1/1 [==============================] - 0s 10ms/step - loss: 7.9333 - mae: 7.9333\n",
            "Epoch 77/200\n",
            "1/1 [==============================] - 0s 10ms/step - loss: 7.8008 - mae: 7.8008\n",
            "Epoch 78/200\n",
            "1/1 [==============================] - 0s 10ms/step - loss: 7.6683 - mae: 7.6683\n",
            "Epoch 79/200\n",
            "1/1 [==============================] - 0s 10ms/step - loss: 7.5358 - mae: 7.5358\n",
            "Epoch 80/200\n",
            "1/1 [==============================] - 0s 9ms/step - loss: 7.4033 - mae: 7.4033\n",
            "Epoch 81/200\n",
            "1/1 [==============================] - 0s 8ms/step - loss: 7.2708 - mae: 7.2708\n",
            "Epoch 82/200\n",
            "1/1 [==============================] - 0s 9ms/step - loss: 7.1383 - mae: 7.1383\n",
            "Epoch 83/200\n",
            "1/1 [==============================] - 0s 9ms/step - loss: 7.0058 - mae: 7.0058\n",
            "Epoch 84/200\n",
            "1/1 [==============================] - 0s 10ms/step - loss: 6.9319 - mae: 6.9319\n",
            "Epoch 85/200\n",
            "1/1 [==============================] - 0s 9ms/step - loss: 6.9263 - mae: 6.9263\n",
            "Epoch 86/200\n",
            "1/1 [==============================] - 0s 10ms/step - loss: 6.9206 - mae: 6.9206\n",
            "Epoch 87/200\n",
            "1/1 [==============================] - 0s 9ms/step - loss: 6.9150 - mae: 6.9150\n",
            "Epoch 88/200\n",
            "1/1 [==============================] - 0s 10ms/step - loss: 6.9094 - mae: 6.9094\n",
            "Epoch 89/200\n",
            "1/1 [==============================] - 0s 10ms/step - loss: 6.9038 - mae: 6.9038\n",
            "Epoch 90/200\n",
            "1/1 [==============================] - 0s 12ms/step - loss: 6.8981 - mae: 6.8981\n",
            "Epoch 91/200\n",
            "1/1 [==============================] - 0s 9ms/step - loss: 6.8925 - mae: 6.8925\n",
            "Epoch 92/200\n",
            "1/1 [==============================] - 0s 9ms/step - loss: 6.8869 - mae: 6.8869\n",
            "Epoch 93/200\n",
            "1/1 [==============================] - 0s 14ms/step - loss: 6.8813 - mae: 6.8813\n",
            "Epoch 94/200\n",
            "1/1 [==============================] - 0s 8ms/step - loss: 6.8756 - mae: 6.8756\n",
            "Epoch 95/200\n",
            "1/1 [==============================] - 0s 9ms/step - loss: 6.8700 - mae: 6.8700\n",
            "Epoch 96/200\n",
            "1/1 [==============================] - 0s 9ms/step - loss: 6.8644 - mae: 6.8644\n",
            "Epoch 97/200\n",
            "1/1 [==============================] - 0s 9ms/step - loss: 6.8588 - mae: 6.8588\n",
            "Epoch 98/200\n",
            "1/1 [==============================] - 0s 9ms/step - loss: 6.8531 - mae: 6.8531\n",
            "Epoch 99/200\n",
            "1/1 [==============================] - 0s 11ms/step - loss: 6.8475 - mae: 6.8475\n",
            "Epoch 100/200\n",
            "1/1 [==============================] - 0s 10ms/step - loss: 6.8419 - mae: 6.8419\n",
            "Epoch 101/200\n",
            "1/1 [==============================] - 0s 9ms/step - loss: 6.8363 - mae: 6.8363\n",
            "Epoch 102/200\n",
            "1/1 [==============================] - 0s 9ms/step - loss: 6.8306 - mae: 6.8306\n",
            "Epoch 103/200\n",
            "1/1 [==============================] - 0s 9ms/step - loss: 6.8250 - mae: 6.8250\n",
            "Epoch 104/200\n",
            "1/1 [==============================] - 0s 9ms/step - loss: 6.8194 - mae: 6.8194\n",
            "Epoch 105/200\n",
            "1/1 [==============================] - 0s 9ms/step - loss: 6.8138 - mae: 6.8138\n",
            "Epoch 106/200\n",
            "1/1 [==============================] - 0s 9ms/step - loss: 6.8081 - mae: 6.8081\n",
            "Epoch 107/200\n",
            "1/1 [==============================] - 0s 8ms/step - loss: 6.8025 - mae: 6.8025\n",
            "Epoch 108/200\n",
            "1/1 [==============================] - 0s 9ms/step - loss: 6.7969 - mae: 6.7969\n",
            "Epoch 109/200\n",
            "1/1 [==============================] - 0s 9ms/step - loss: 6.7913 - mae: 6.7913\n",
            "Epoch 110/200\n",
            "1/1 [==============================] - 0s 9ms/step - loss: 6.7856 - mae: 6.7856\n",
            "Epoch 111/200\n",
            "1/1 [==============================] - 0s 9ms/step - loss: 6.7800 - mae: 6.7800\n",
            "Epoch 112/200\n",
            "1/1 [==============================] - 0s 10ms/step - loss: 6.7744 - mae: 6.7744\n",
            "Epoch 113/200\n",
            "1/1 [==============================] - 0s 15ms/step - loss: 6.7688 - mae: 6.7688\n",
            "Epoch 114/200\n",
            "1/1 [==============================] - 0s 12ms/step - loss: 6.7631 - mae: 6.7631\n",
            "Epoch 115/200\n",
            "1/1 [==============================] - 0s 10ms/step - loss: 6.7575 - mae: 6.7575\n",
            "Epoch 116/200\n",
            "1/1 [==============================] - 0s 8ms/step - loss: 6.7519 - mae: 6.7519\n",
            "Epoch 117/200\n",
            "1/1 [==============================] - 0s 8ms/step - loss: 6.7463 - mae: 6.7463\n",
            "Epoch 118/200\n",
            "1/1 [==============================] - 0s 7ms/step - loss: 6.7406 - mae: 6.7406\n",
            "Epoch 119/200\n",
            "1/1 [==============================] - 0s 8ms/step - loss: 6.7350 - mae: 6.7350\n",
            "Epoch 120/200\n",
            "1/1 [==============================] - 0s 8ms/step - loss: 6.7294 - mae: 6.7294\n",
            "Epoch 121/200\n",
            "1/1 [==============================] - 0s 9ms/step - loss: 6.7238 - mae: 6.7238\n",
            "Epoch 122/200\n",
            "1/1 [==============================] - 0s 8ms/step - loss: 6.7181 - mae: 6.7181\n",
            "Epoch 123/200\n",
            "1/1 [==============================] - 0s 7ms/step - loss: 6.7125 - mae: 6.7125\n",
            "Epoch 124/200\n",
            "1/1 [==============================] - 0s 8ms/step - loss: 6.7069 - mae: 6.7069\n",
            "Epoch 125/200\n",
            "1/1 [==============================] - 0s 8ms/step - loss: 6.7013 - mae: 6.7013\n",
            "Epoch 126/200\n",
            "1/1 [==============================] - 0s 9ms/step - loss: 6.6956 - mae: 6.6956\n",
            "Epoch 127/200\n",
            "1/1 [==============================] - 0s 8ms/step - loss: 6.6900 - mae: 6.6900\n",
            "Epoch 128/200\n",
            "1/1 [==============================] - 0s 9ms/step - loss: 6.6844 - mae: 6.6844\n",
            "Epoch 129/200\n",
            "1/1 [==============================] - 0s 9ms/step - loss: 6.6787 - mae: 6.6787\n",
            "Epoch 130/200\n",
            "1/1 [==============================] - 0s 9ms/step - loss: 6.6731 - mae: 6.6731\n",
            "Epoch 131/200\n",
            "1/1 [==============================] - 0s 9ms/step - loss: 6.6675 - mae: 6.6675\n",
            "Epoch 132/200\n",
            "1/1 [==============================] - 0s 9ms/step - loss: 6.6619 - mae: 6.6619\n",
            "Epoch 133/200\n",
            "1/1 [==============================] - 0s 9ms/step - loss: 6.6562 - mae: 6.6562\n",
            "Epoch 134/200\n",
            "1/1 [==============================] - 0s 9ms/step - loss: 6.6506 - mae: 6.6506\n",
            "Epoch 135/200\n",
            "1/1 [==============================] - 0s 9ms/step - loss: 6.6450 - mae: 6.6450\n",
            "Epoch 136/200\n",
            "1/1 [==============================] - 0s 14ms/step - loss: 6.6394 - mae: 6.6394\n",
            "Epoch 137/200\n",
            "1/1 [==============================] - 0s 8ms/step - loss: 6.6337 - mae: 6.6337\n",
            "Epoch 138/200\n",
            "1/1 [==============================] - 0s 8ms/step - loss: 6.6281 - mae: 6.6281\n",
            "Epoch 139/200\n",
            "1/1 [==============================] - 0s 8ms/step - loss: 6.6225 - mae: 6.6225\n",
            "Epoch 140/200\n",
            "1/1 [==============================] - 0s 12ms/step - loss: 6.6169 - mae: 6.6169\n",
            "Epoch 141/200\n",
            "1/1 [==============================] - 0s 9ms/step - loss: 6.6112 - mae: 6.6112\n",
            "Epoch 142/200\n",
            "1/1 [==============================] - 0s 8ms/step - loss: 6.6056 - mae: 6.6056\n",
            "Epoch 143/200\n",
            "1/1 [==============================] - 0s 10ms/step - loss: 6.6000 - mae: 6.6000\n",
            "Epoch 144/200\n",
            "1/1 [==============================] - 0s 9ms/step - loss: 6.5944 - mae: 6.5944\n",
            "Epoch 145/200\n",
            "1/1 [==============================] - 0s 9ms/step - loss: 6.5887 - mae: 6.5887\n",
            "Epoch 146/200\n",
            "1/1 [==============================] - 0s 9ms/step - loss: 6.5831 - mae: 6.5831\n",
            "Epoch 147/200\n",
            "1/1 [==============================] - 0s 8ms/step - loss: 6.5775 - mae: 6.5775\n",
            "Epoch 148/200\n",
            "1/1 [==============================] - 0s 9ms/step - loss: 6.5719 - mae: 6.5719\n",
            "Epoch 149/200\n",
            "1/1 [==============================] - 0s 9ms/step - loss: 6.5662 - mae: 6.5662\n",
            "Epoch 150/200\n",
            "1/1 [==============================] - 0s 9ms/step - loss: 6.5606 - mae: 6.5606\n",
            "Epoch 151/200\n",
            "1/1 [==============================] - 0s 9ms/step - loss: 6.5550 - mae: 6.5550\n",
            "Epoch 152/200\n",
            "1/1 [==============================] - 0s 9ms/step - loss: 6.5494 - mae: 6.5494\n",
            "Epoch 153/200\n",
            "1/1 [==============================] - 0s 9ms/step - loss: 6.5437 - mae: 6.5437\n",
            "Epoch 154/200\n",
            "1/1 [==============================] - 0s 9ms/step - loss: 6.5381 - mae: 6.5381\n",
            "Epoch 155/200\n",
            "1/1 [==============================] - 0s 9ms/step - loss: 6.5325 - mae: 6.5325\n",
            "Epoch 156/200\n",
            "1/1 [==============================] - 0s 9ms/step - loss: 6.5269 - mae: 6.5269\n",
            "Epoch 157/200\n",
            "1/1 [==============================] - 0s 9ms/step - loss: 6.5212 - mae: 6.5212\n",
            "Epoch 158/200\n",
            "1/1 [==============================] - 0s 9ms/step - loss: 6.5156 - mae: 6.5156\n",
            "Epoch 159/200\n",
            "1/1 [==============================] - 0s 9ms/step - loss: 6.5100 - mae: 6.5100\n",
            "Epoch 160/200\n",
            "1/1 [==============================] - 0s 9ms/step - loss: 6.5044 - mae: 6.5044\n",
            "Epoch 161/200\n",
            "1/1 [==============================] - 0s 9ms/step - loss: 6.4987 - mae: 6.4987\n",
            "Epoch 162/200\n",
            "1/1 [==============================] - 0s 9ms/step - loss: 6.4931 - mae: 6.4931\n",
            "Epoch 163/200\n",
            "1/1 [==============================] - 0s 9ms/step - loss: 6.4875 - mae: 6.4875\n",
            "Epoch 164/200\n",
            "1/1 [==============================] - 0s 9ms/step - loss: 6.4819 - mae: 6.4819\n",
            "Epoch 165/200\n",
            "1/1 [==============================] - 0s 9ms/step - loss: 6.4762 - mae: 6.4762\n",
            "Epoch 166/200\n",
            "1/1 [==============================] - 0s 9ms/step - loss: 6.4706 - mae: 6.4706\n",
            "Epoch 167/200\n",
            "1/1 [==============================] - 0s 9ms/step - loss: 6.4650 - mae: 6.4650\n",
            "Epoch 168/200\n",
            "1/1 [==============================] - 0s 9ms/step - loss: 6.4594 - mae: 6.4594\n",
            "Epoch 169/200\n",
            "1/1 [==============================] - 0s 8ms/step - loss: 6.4537 - mae: 6.4537\n",
            "Epoch 170/200\n",
            "1/1 [==============================] - 0s 9ms/step - loss: 6.4481 - mae: 6.4481\n",
            "Epoch 171/200\n",
            "1/1 [==============================] - 0s 9ms/step - loss: 6.4425 - mae: 6.4425\n",
            "Epoch 172/200\n",
            "1/1 [==============================] - 0s 11ms/step - loss: 6.4369 - mae: 6.4369\n",
            "Epoch 173/200\n",
            "1/1 [==============================] - 0s 9ms/step - loss: 6.4312 - mae: 6.4312\n",
            "Epoch 174/200\n",
            "1/1 [==============================] - 0s 11ms/step - loss: 6.4256 - mae: 6.4256\n",
            "Epoch 175/200\n",
            "1/1 [==============================] - 0s 12ms/step - loss: 6.4200 - mae: 6.4200\n",
            "Epoch 176/200\n",
            "1/1 [==============================] - 0s 13ms/step - loss: 6.4144 - mae: 6.4144\n",
            "Epoch 177/200\n",
            "1/1 [==============================] - 0s 8ms/step - loss: 6.4087 - mae: 6.4087\n",
            "Epoch 178/200\n",
            "1/1 [==============================] - 0s 8ms/step - loss: 6.4031 - mae: 6.4031\n",
            "Epoch 179/200\n",
            "1/1 [==============================] - 0s 10ms/step - loss: 6.3975 - mae: 6.3975\n",
            "Epoch 180/200\n",
            "1/1 [==============================] - 0s 10ms/step - loss: 6.3919 - mae: 6.3919\n",
            "Epoch 181/200\n",
            "1/1 [==============================] - 0s 10ms/step - loss: 6.3862 - mae: 6.3862\n",
            "Epoch 182/200\n",
            "1/1 [==============================] - 0s 9ms/step - loss: 6.3806 - mae: 6.3806\n",
            "Epoch 183/200\n",
            "1/1 [==============================] - 0s 10ms/step - loss: 6.3750 - mae: 6.3750\n",
            "Epoch 184/200\n",
            "1/1 [==============================] - 0s 9ms/step - loss: 6.3694 - mae: 6.3694\n",
            "Epoch 185/200\n",
            "1/1 [==============================] - 0s 9ms/step - loss: 6.3637 - mae: 6.3637\n",
            "Epoch 186/200\n",
            "1/1 [==============================] - 0s 9ms/step - loss: 6.3581 - mae: 6.3581\n",
            "Epoch 187/200\n",
            "1/1 [==============================] - 0s 10ms/step - loss: 6.3525 - mae: 6.3525\n",
            "Epoch 188/200\n",
            "1/1 [==============================] - 0s 8ms/step - loss: 6.3469 - mae: 6.3469\n",
            "Epoch 189/200\n",
            "1/1 [==============================] - 0s 8ms/step - loss: 6.3412 - mae: 6.3412\n",
            "Epoch 190/200\n",
            "1/1 [==============================] - 0s 9ms/step - loss: 6.3356 - mae: 6.3356\n",
            "Epoch 191/200\n",
            "1/1 [==============================] - 0s 9ms/step - loss: 6.3300 - mae: 6.3300\n",
            "Epoch 192/200\n",
            "1/1 [==============================] - 0s 9ms/step - loss: 6.3244 - mae: 6.3244\n",
            "Epoch 193/200\n",
            "1/1 [==============================] - 0s 9ms/step - loss: 6.3187 - mae: 6.3187\n",
            "Epoch 194/200\n",
            "1/1 [==============================] - 0s 10ms/step - loss: 6.3131 - mae: 6.3131\n",
            "Epoch 195/200\n",
            "1/1 [==============================] - 0s 9ms/step - loss: 6.3075 - mae: 6.3075\n",
            "Epoch 196/200\n",
            "1/1 [==============================] - 0s 10ms/step - loss: 6.3019 - mae: 6.3019\n",
            "Epoch 197/200\n",
            "1/1 [==============================] - 0s 9ms/step - loss: 6.2962 - mae: 6.2962\n",
            "Epoch 198/200\n",
            "1/1 [==============================] - 0s 8ms/step - loss: 6.2906 - mae: 6.2906\n",
            "Epoch 199/200\n",
            "1/1 [==============================] - 0s 8ms/step - loss: 6.2850 - mae: 6.2850\n",
            "Epoch 200/200\n",
            "1/1 [==============================] - 0s 9ms/step - loss: 6.2794 - mae: 6.2794\n"
          ]
        },
        {
          "output_type": "execute_result",
          "data": {
            "text/plain": [
              "<keras.callbacks.History at 0x7f00281bb7f0>"
            ]
          },
          "metadata": {},
          "execution_count": 11
        }
      ]
    },
    {
      "cell_type": "code",
      "source": [
        "model1 = tf.keras.Sequential()\n",
        "model1.add(tf.keras.layers.Dense(1))\n",
        "\n",
        "model1.compile(loss=tf.keras.losses.mae,\n",
        "               optimizer=tf.keras.optimizers.SGD(),\n",
        "               metrics=[\"mae\"])\n",
        "\n",
        "model1.fit(tf.expand_dims(X, axis=-1), y, epochs=100)"
      ],
      "metadata": {
        "id": "rbUJ5WfuW3c6",
        "colab": {
          "base_uri": "https://localhost:8080/"
        },
        "outputId": "17160366-d17e-49e9-f708-5a7237c9f287"
      },
      "execution_count": 12,
      "outputs": [
        {
          "output_type": "stream",
          "name": "stdout",
          "text": [
            "Epoch 1/100\n",
            "1/1 [==============================] - 1s 616ms/step - loss: 12.4524 - mae: 12.4524\n",
            "Epoch 2/100\n",
            "1/1 [==============================] - 0s 15ms/step - loss: 12.3199 - mae: 12.3199\n",
            "Epoch 3/100\n",
            "1/1 [==============================] - 0s 18ms/step - loss: 12.1874 - mae: 12.1874\n",
            "Epoch 4/100\n",
            "1/1 [==============================] - 0s 24ms/step - loss: 12.0549 - mae: 12.0549\n",
            "Epoch 5/100\n",
            "1/1 [==============================] - 0s 9ms/step - loss: 11.9224 - mae: 11.9224\n",
            "Epoch 6/100\n",
            "1/1 [==============================] - 0s 11ms/step - loss: 11.7899 - mae: 11.7899\n",
            "Epoch 7/100\n",
            "1/1 [==============================] - 0s 10ms/step - loss: 11.6574 - mae: 11.6574\n",
            "Epoch 8/100\n",
            "1/1 [==============================] - 0s 11ms/step - loss: 11.5249 - mae: 11.5249\n",
            "Epoch 9/100\n",
            "1/1 [==============================] - 0s 10ms/step - loss: 11.3924 - mae: 11.3924\n",
            "Epoch 10/100\n",
            "1/1 [==============================] - 0s 10ms/step - loss: 11.2599 - mae: 11.2599\n",
            "Epoch 11/100\n",
            "1/1 [==============================] - 0s 10ms/step - loss: 11.1274 - mae: 11.1274\n",
            "Epoch 12/100\n",
            "1/1 [==============================] - 0s 8ms/step - loss: 10.9949 - mae: 10.9949\n",
            "Epoch 13/100\n",
            "1/1 [==============================] - 0s 11ms/step - loss: 10.8624 - mae: 10.8624\n",
            "Epoch 14/100\n",
            "1/1 [==============================] - 0s 11ms/step - loss: 10.7299 - mae: 10.7299\n",
            "Epoch 15/100\n",
            "1/1 [==============================] - 0s 11ms/step - loss: 10.5974 - mae: 10.5974\n",
            "Epoch 16/100\n",
            "1/1 [==============================] - 0s 10ms/step - loss: 10.4649 - mae: 10.4649\n",
            "Epoch 17/100\n",
            "1/1 [==============================] - 0s 9ms/step - loss: 10.3324 - mae: 10.3324\n",
            "Epoch 18/100\n",
            "1/1 [==============================] - 0s 9ms/step - loss: 10.1999 - mae: 10.1999\n",
            "Epoch 19/100\n",
            "1/1 [==============================] - 0s 11ms/step - loss: 10.0674 - mae: 10.0674\n",
            "Epoch 20/100\n",
            "1/1 [==============================] - 0s 9ms/step - loss: 9.9349 - mae: 9.9349\n",
            "Epoch 21/100\n",
            "1/1 [==============================] - 0s 15ms/step - loss: 9.8024 - mae: 9.8024\n",
            "Epoch 22/100\n",
            "1/1 [==============================] - 0s 12ms/step - loss: 9.6699 - mae: 9.6699\n",
            "Epoch 23/100\n",
            "1/1 [==============================] - 0s 12ms/step - loss: 9.5374 - mae: 9.5374\n",
            "Epoch 24/100\n",
            "1/1 [==============================] - 0s 18ms/step - loss: 9.4049 - mae: 9.4049\n",
            "Epoch 25/100\n",
            "1/1 [==============================] - 0s 14ms/step - loss: 9.2724 - mae: 9.2724\n",
            "Epoch 26/100\n",
            "1/1 [==============================] - 0s 18ms/step - loss: 9.1399 - mae: 9.1399\n",
            "Epoch 27/100\n",
            "1/1 [==============================] - 0s 22ms/step - loss: 9.0074 - mae: 9.0074\n",
            "Epoch 28/100\n",
            "1/1 [==============================] - 0s 29ms/step - loss: 8.8749 - mae: 8.8749\n",
            "Epoch 29/100\n",
            "1/1 [==============================] - 0s 24ms/step - loss: 8.7424 - mae: 8.7424\n",
            "Epoch 30/100\n",
            "1/1 [==============================] - 0s 34ms/step - loss: 8.6099 - mae: 8.6099\n",
            "Epoch 31/100\n",
            "1/1 [==============================] - 0s 27ms/step - loss: 8.4774 - mae: 8.4774\n",
            "Epoch 32/100\n",
            "1/1 [==============================] - 0s 11ms/step - loss: 8.3449 - mae: 8.3449\n",
            "Epoch 33/100\n",
            "1/1 [==============================] - 0s 15ms/step - loss: 8.2124 - mae: 8.2124\n",
            "Epoch 34/100\n",
            "1/1 [==============================] - 0s 32ms/step - loss: 8.0799 - mae: 8.0799\n",
            "Epoch 35/100\n",
            "1/1 [==============================] - 0s 20ms/step - loss: 7.9474 - mae: 7.9474\n",
            "Epoch 36/100\n",
            "1/1 [==============================] - 0s 25ms/step - loss: 7.8149 - mae: 7.8149\n",
            "Epoch 37/100\n",
            "1/1 [==============================] - 0s 22ms/step - loss: 7.6824 - mae: 7.6824\n",
            "Epoch 38/100\n",
            "1/1 [==============================] - 0s 22ms/step - loss: 7.5499 - mae: 7.5499\n",
            "Epoch 39/100\n",
            "1/1 [==============================] - 0s 13ms/step - loss: 7.4174 - mae: 7.4174\n",
            "Epoch 40/100\n",
            "1/1 [==============================] - 0s 14ms/step - loss: 7.2849 - mae: 7.2849\n",
            "Epoch 41/100\n",
            "1/1 [==============================] - 0s 13ms/step - loss: 7.2000 - mae: 7.2000\n",
            "Epoch 42/100\n",
            "1/1 [==============================] - 0s 15ms/step - loss: 7.1944 - mae: 7.1944\n",
            "Epoch 43/100\n",
            "1/1 [==============================] - 0s 10ms/step - loss: 7.1887 - mae: 7.1887\n",
            "Epoch 44/100\n",
            "1/1 [==============================] - 0s 11ms/step - loss: 7.1831 - mae: 7.1831\n",
            "Epoch 45/100\n",
            "1/1 [==============================] - 0s 12ms/step - loss: 7.1775 - mae: 7.1775\n",
            "Epoch 46/100\n",
            "1/1 [==============================] - 0s 12ms/step - loss: 7.1719 - mae: 7.1719\n",
            "Epoch 47/100\n",
            "1/1 [==============================] - 0s 12ms/step - loss: 7.1662 - mae: 7.1662\n",
            "Epoch 48/100\n",
            "1/1 [==============================] - 0s 13ms/step - loss: 7.1606 - mae: 7.1606\n",
            "Epoch 49/100\n",
            "1/1 [==============================] - 0s 9ms/step - loss: 7.1550 - mae: 7.1550\n",
            "Epoch 50/100\n",
            "1/1 [==============================] - 0s 15ms/step - loss: 7.1494 - mae: 7.1494\n",
            "Epoch 51/100\n",
            "1/1 [==============================] - 0s 14ms/step - loss: 7.1438 - mae: 7.1438\n",
            "Epoch 52/100\n",
            "1/1 [==============================] - 0s 16ms/step - loss: 7.1381 - mae: 7.1381\n",
            "Epoch 53/100\n",
            "1/1 [==============================] - 0s 11ms/step - loss: 7.1325 - mae: 7.1325\n",
            "Epoch 54/100\n",
            "1/1 [==============================] - 0s 18ms/step - loss: 7.1269 - mae: 7.1269\n",
            "Epoch 55/100\n",
            "1/1 [==============================] - 0s 41ms/step - loss: 7.1213 - mae: 7.1213\n",
            "Epoch 56/100\n",
            "1/1 [==============================] - 0s 25ms/step - loss: 7.1156 - mae: 7.1156\n",
            "Epoch 57/100\n",
            "1/1 [==============================] - 0s 32ms/step - loss: 7.1100 - mae: 7.1100\n",
            "Epoch 58/100\n",
            "1/1 [==============================] - 0s 45ms/step - loss: 7.1044 - mae: 7.1044\n",
            "Epoch 59/100\n",
            "1/1 [==============================] - 0s 26ms/step - loss: 7.0988 - mae: 7.0988\n",
            "Epoch 60/100\n",
            "1/1 [==============================] - 0s 12ms/step - loss: 7.0931 - mae: 7.0931\n",
            "Epoch 61/100\n",
            "1/1 [==============================] - 0s 18ms/step - loss: 7.0875 - mae: 7.0875\n",
            "Epoch 62/100\n",
            "1/1 [==============================] - 0s 27ms/step - loss: 7.0819 - mae: 7.0819\n",
            "Epoch 63/100\n",
            "1/1 [==============================] - 0s 18ms/step - loss: 7.0763 - mae: 7.0763\n",
            "Epoch 64/100\n",
            "1/1 [==============================] - 0s 21ms/step - loss: 7.0706 - mae: 7.0706\n",
            "Epoch 65/100\n",
            "1/1 [==============================] - 0s 19ms/step - loss: 7.0650 - mae: 7.0650\n",
            "Epoch 66/100\n",
            "1/1 [==============================] - 0s 17ms/step - loss: 7.0594 - mae: 7.0594\n",
            "Epoch 67/100\n",
            "1/1 [==============================] - 0s 22ms/step - loss: 7.0538 - mae: 7.0538\n",
            "Epoch 68/100\n",
            "1/1 [==============================] - 0s 23ms/step - loss: 7.0481 - mae: 7.0481\n",
            "Epoch 69/100\n",
            "1/1 [==============================] - 0s 15ms/step - loss: 7.0425 - mae: 7.0425\n",
            "Epoch 70/100\n",
            "1/1 [==============================] - 0s 14ms/step - loss: 7.0369 - mae: 7.0369\n",
            "Epoch 71/100\n",
            "1/1 [==============================] - 0s 19ms/step - loss: 7.0312 - mae: 7.0312\n",
            "Epoch 72/100\n",
            "1/1 [==============================] - 0s 19ms/step - loss: 7.0256 - mae: 7.0256\n",
            "Epoch 73/100\n",
            "1/1 [==============================] - 0s 22ms/step - loss: 7.0200 - mae: 7.0200\n",
            "Epoch 74/100\n",
            "1/1 [==============================] - 0s 21ms/step - loss: 7.0144 - mae: 7.0144\n",
            "Epoch 75/100\n",
            "1/1 [==============================] - 0s 19ms/step - loss: 7.0087 - mae: 7.0087\n",
            "Epoch 76/100\n",
            "1/1 [==============================] - 0s 22ms/step - loss: 7.0031 - mae: 7.0031\n",
            "Epoch 77/100\n",
            "1/1 [==============================] - 0s 24ms/step - loss: 6.9975 - mae: 6.9975\n",
            "Epoch 78/100\n",
            "1/1 [==============================] - 0s 18ms/step - loss: 6.9919 - mae: 6.9919\n",
            "Epoch 79/100\n",
            "1/1 [==============================] - 0s 26ms/step - loss: 6.9862 - mae: 6.9862\n",
            "Epoch 80/100\n",
            "1/1 [==============================] - 0s 25ms/step - loss: 6.9806 - mae: 6.9806\n",
            "Epoch 81/100\n",
            "1/1 [==============================] - 0s 22ms/step - loss: 6.9750 - mae: 6.9750\n",
            "Epoch 82/100\n",
            "1/1 [==============================] - 0s 16ms/step - loss: 6.9694 - mae: 6.9694\n",
            "Epoch 83/100\n",
            "1/1 [==============================] - 0s 19ms/step - loss: 6.9638 - mae: 6.9638\n",
            "Epoch 84/100\n",
            "1/1 [==============================] - 0s 13ms/step - loss: 6.9581 - mae: 6.9581\n",
            "Epoch 85/100\n",
            "1/1 [==============================] - 0s 13ms/step - loss: 6.9525 - mae: 6.9525\n",
            "Epoch 86/100\n",
            "1/1 [==============================] - 0s 19ms/step - loss: 6.9469 - mae: 6.9469\n",
            "Epoch 87/100\n",
            "1/1 [==============================] - 0s 19ms/step - loss: 6.9412 - mae: 6.9412\n",
            "Epoch 88/100\n",
            "1/1 [==============================] - 0s 16ms/step - loss: 6.9356 - mae: 6.9356\n",
            "Epoch 89/100\n",
            "1/1 [==============================] - 0s 20ms/step - loss: 6.9300 - mae: 6.9300\n",
            "Epoch 90/100\n",
            "1/1 [==============================] - 0s 21ms/step - loss: 6.9244 - mae: 6.9244\n",
            "Epoch 91/100\n",
            "1/1 [==============================] - 0s 22ms/step - loss: 6.9187 - mae: 6.9187\n",
            "Epoch 92/100\n",
            "1/1 [==============================] - 0s 17ms/step - loss: 6.9131 - mae: 6.9131\n",
            "Epoch 93/100\n",
            "1/1 [==============================] - 0s 19ms/step - loss: 6.9075 - mae: 6.9075\n",
            "Epoch 94/100\n",
            "1/1 [==============================] - 0s 24ms/step - loss: 6.9019 - mae: 6.9019\n",
            "Epoch 95/100\n",
            "1/1 [==============================] - 0s 19ms/step - loss: 6.8963 - mae: 6.8963\n",
            "Epoch 96/100\n",
            "1/1 [==============================] - 0s 14ms/step - loss: 6.8906 - mae: 6.8906\n",
            "Epoch 97/100\n",
            "1/1 [==============================] - 0s 15ms/step - loss: 6.8850 - mae: 6.8850\n",
            "Epoch 98/100\n",
            "1/1 [==============================] - 0s 16ms/step - loss: 6.8794 - mae: 6.8794\n",
            "Epoch 99/100\n",
            "1/1 [==============================] - 0s 15ms/step - loss: 6.8738 - mae: 6.8738\n",
            "Epoch 100/100\n",
            "1/1 [==============================] - 0s 15ms/step - loss: 6.8681 - mae: 6.8681\n"
          ]
        },
        {
          "output_type": "execute_result",
          "data": {
            "text/plain": [
              "<keras.callbacks.History at 0x7f00207fb670>"
            ]
          },
          "metadata": {},
          "execution_count": 12
        }
      ]
    },
    {
      "cell_type": "code",
      "source": [
        "model.predict([11.0]), model1.predict([11.0])"
      ],
      "metadata": {
        "colab": {
          "base_uri": "https://localhost:8080/"
        },
        "id": "QXfHrsVCHwoP",
        "outputId": "d83f0b53-6dfa-48b3-8d34-10b40f067223"
      },
      "execution_count": 13,
      "outputs": [
        {
          "output_type": "stream",
          "name": "stdout",
          "text": [
            "1/1 [==============================] - 0s 359ms/step\n",
            "1/1 [==============================] - 0s 204ms/step\n"
          ]
        },
        {
          "output_type": "execute_result",
          "data": {
            "text/plain": [
              "(array([[20.08104]], dtype=float32), array([[19.542463]], dtype=float32))"
            ]
          },
          "metadata": {},
          "execution_count": 13
        }
      ]
    },
    {
      "cell_type": "code",
      "source": [
        "X.numpy(), y.numpy()"
      ],
      "metadata": {
        "colab": {
          "base_uri": "https://localhost:8080/"
        },
        "id": "DbYbWCvMd4-4",
        "outputId": "be64c43c-4d15-4f78-c372-e082580780b0"
      },
      "execution_count": 14,
      "outputs": [
        {
          "output_type": "execute_result",
          "data": {
            "text/plain": [
              "(array([-7., -4., -1.,  2.,  5.,  8., 11., 14.], dtype=float32),\n",
              " array([ 3.,  6.,  9., 12., 15., 18., 21., 24.], dtype=float32))"
            ]
          },
          "metadata": {},
          "execution_count": 14
        }
      ]
    },
    {
      "cell_type": "code",
      "source": [
        "model.predict([17.0])"
      ],
      "metadata": {
        "colab": {
          "base_uri": "https://localhost:8080/"
        },
        "id": "ZSTe0n9TeF7p",
        "outputId": "326f26a6-f858-4c43-ad49-629fb757e091"
      },
      "execution_count": 15,
      "outputs": [
        {
          "output_type": "stream",
          "name": "stdout",
          "text": [
            "1/1 [==============================] - 0s 120ms/step\n"
          ]
        },
        {
          "output_type": "execute_result",
          "data": {
            "text/plain": [
              "array([[30.142513]], dtype=float32)"
            ]
          },
          "metadata": {},
          "execution_count": 15
        }
      ]
    },
    {
      "cell_type": "markdown",
      "source": [
        "## Improving our model\n",
        "\n",
        "We can improve our model, by altering the steps we took to create a model.\n",
        "\n",
        "1. **Creating a model** - here we might add more layers,\n",
        "increase the number of hidden units (all called neurons)\n",
        "within each of the hidden layers, change the activation function of each layer.\n",
        "2. **Compiling a model** - here we might change the optimization function or perhaps the learning rate of the optimization function.\n",
        "3. **Fitting a model** - here we might fit a model for more epochs (leave it training for longer) or on more data (give the model more examples to learn form)."
      ],
      "metadata": {
        "id": "_uT9fVMte7x3"
      }
    },
    {
      "cell_type": "code",
      "source": [
        "# Let's rebuild our model\n",
        "\n",
        "# 1. Create the model\n",
        "model = tf.keras.Sequential([\n",
        "    tf.keras.layers.Dense(100, activation=None),\n",
        "    tf.keras.layers.Dense(1)\n",
        "])\n",
        "\n",
        "# 2. Compile the model\n",
        "model.compile(loss=tf.keras.losses.mae,\n",
        "              optimizer=tf.keras.optimizers.Adam(lr=0.01),\n",
        "              metrics=[\"mae\"])\n",
        "\n",
        "# 3. Fit the model\n",
        "model.fit(tf.expand_dims(X, axis=-1), y, epochs=100)"
      ],
      "metadata": {
        "id": "eHI4EBfhJbk8",
        "colab": {
          "base_uri": "https://localhost:8080/"
        },
        "outputId": "707ac3da-d96e-4505-cb42-87f3f6a248cb"
      },
      "execution_count": 16,
      "outputs": [
        {
          "output_type": "stream",
          "name": "stderr",
          "text": [
            "WARNING:absl:`lr` is deprecated in Keras optimizer, please use `learning_rate` or use the legacy optimizer, e.g.,tf.keras.optimizers.legacy.Adam.\n"
          ]
        },
        {
          "output_type": "stream",
          "name": "stdout",
          "text": [
            "Epoch 1/100\n",
            "1/1 [==============================] - 1s 1s/step - loss: 13.9819 - mae: 13.9819\n",
            "Epoch 2/100\n",
            "1/1 [==============================] - 0s 17ms/step - loss: 13.8811 - mae: 13.8811\n",
            "Epoch 3/100\n",
            "1/1 [==============================] - 0s 17ms/step - loss: 13.7804 - mae: 13.7804\n",
            "Epoch 4/100\n",
            "1/1 [==============================] - 0s 12ms/step - loss: 13.6798 - mae: 13.6798\n",
            "Epoch 5/100\n",
            "1/1 [==============================] - 0s 14ms/step - loss: 13.5792 - mae: 13.5792\n",
            "Epoch 6/100\n",
            "1/1 [==============================] - 0s 13ms/step - loss: 13.4786 - mae: 13.4786\n",
            "Epoch 7/100\n",
            "1/1 [==============================] - 0s 16ms/step - loss: 13.3780 - mae: 13.3780\n",
            "Epoch 8/100\n",
            "1/1 [==============================] - 0s 13ms/step - loss: 13.2775 - mae: 13.2775\n",
            "Epoch 9/100\n",
            "1/1 [==============================] - 0s 16ms/step - loss: 13.1770 - mae: 13.1770\n",
            "Epoch 10/100\n",
            "1/1 [==============================] - 0s 17ms/step - loss: 13.0764 - mae: 13.0764\n",
            "Epoch 11/100\n",
            "1/1 [==============================] - 0s 22ms/step - loss: 12.9759 - mae: 12.9759\n",
            "Epoch 12/100\n",
            "1/1 [==============================] - 0s 15ms/step - loss: 12.8753 - mae: 12.8753\n",
            "Epoch 13/100\n",
            "1/1 [==============================] - 0s 22ms/step - loss: 12.7747 - mae: 12.7747\n",
            "Epoch 14/100\n",
            "1/1 [==============================] - 0s 17ms/step - loss: 12.6740 - mae: 12.6740\n",
            "Epoch 15/100\n",
            "1/1 [==============================] - 0s 16ms/step - loss: 12.5732 - mae: 12.5732\n",
            "Epoch 16/100\n",
            "1/1 [==============================] - 0s 43ms/step - loss: 12.4724 - mae: 12.4724\n",
            "Epoch 17/100\n",
            "1/1 [==============================] - 0s 19ms/step - loss: 12.3714 - mae: 12.3714\n",
            "Epoch 18/100\n",
            "1/1 [==============================] - 0s 33ms/step - loss: 12.2704 - mae: 12.2704\n",
            "Epoch 19/100\n",
            "1/1 [==============================] - 0s 24ms/step - loss: 12.1691 - mae: 12.1691\n",
            "Epoch 20/100\n",
            "1/1 [==============================] - 0s 34ms/step - loss: 12.0677 - mae: 12.0677\n",
            "Epoch 21/100\n",
            "1/1 [==============================] - 0s 35ms/step - loss: 11.9661 - mae: 11.9661\n",
            "Epoch 22/100\n",
            "1/1 [==============================] - 0s 15ms/step - loss: 11.8643 - mae: 11.8643\n",
            "Epoch 23/100\n",
            "1/1 [==============================] - 0s 10ms/step - loss: 11.7623 - mae: 11.7623\n",
            "Epoch 24/100\n",
            "1/1 [==============================] - 0s 9ms/step - loss: 11.6600 - mae: 11.6600\n",
            "Epoch 25/100\n",
            "1/1 [==============================] - 0s 13ms/step - loss: 11.5574 - mae: 11.5574\n",
            "Epoch 26/100\n",
            "1/1 [==============================] - 0s 19ms/step - loss: 11.4545 - mae: 11.4545\n",
            "Epoch 27/100\n",
            "1/1 [==============================] - 0s 19ms/step - loss: 11.3513 - mae: 11.3513\n",
            "Epoch 28/100\n",
            "1/1 [==============================] - 0s 28ms/step - loss: 11.2477 - mae: 11.2477\n",
            "Epoch 29/100\n",
            "1/1 [==============================] - 0s 17ms/step - loss: 11.1438 - mae: 11.1438\n",
            "Epoch 30/100\n",
            "1/1 [==============================] - 0s 19ms/step - loss: 11.0395 - mae: 11.0395\n",
            "Epoch 31/100\n",
            "1/1 [==============================] - 0s 17ms/step - loss: 10.9347 - mae: 10.9347\n",
            "Epoch 32/100\n",
            "1/1 [==============================] - 0s 14ms/step - loss: 10.8296 - mae: 10.8296\n",
            "Epoch 33/100\n",
            "1/1 [==============================] - 0s 11ms/step - loss: 10.7239 - mae: 10.7239\n",
            "Epoch 34/100\n",
            "1/1 [==============================] - 0s 12ms/step - loss: 10.6178 - mae: 10.6178\n",
            "Epoch 35/100\n",
            "1/1 [==============================] - 0s 14ms/step - loss: 10.5112 - mae: 10.5112\n",
            "Epoch 36/100\n",
            "1/1 [==============================] - 0s 29ms/step - loss: 10.4041 - mae: 10.4041\n",
            "Epoch 37/100\n",
            "1/1 [==============================] - 0s 17ms/step - loss: 10.2965 - mae: 10.2965\n",
            "Epoch 38/100\n",
            "1/1 [==============================] - 0s 14ms/step - loss: 10.1883 - mae: 10.1883\n",
            "Epoch 39/100\n",
            "1/1 [==============================] - 0s 13ms/step - loss: 10.0795 - mae: 10.0795\n",
            "Epoch 40/100\n",
            "1/1 [==============================] - 0s 20ms/step - loss: 9.9702 - mae: 9.9702\n",
            "Epoch 41/100\n",
            "1/1 [==============================] - 0s 17ms/step - loss: 9.8602 - mae: 9.8602\n",
            "Epoch 42/100\n",
            "1/1 [==============================] - 0s 11ms/step - loss: 9.7496 - mae: 9.7496\n",
            "Epoch 43/100\n",
            "1/1 [==============================] - 0s 12ms/step - loss: 9.6383 - mae: 9.6383\n",
            "Epoch 44/100\n",
            "1/1 [==============================] - 0s 12ms/step - loss: 9.5264 - mae: 9.5264\n",
            "Epoch 45/100\n",
            "1/1 [==============================] - 0s 19ms/step - loss: 9.4138 - mae: 9.4138\n",
            "Epoch 46/100\n",
            "1/1 [==============================] - 0s 21ms/step - loss: 9.3004 - mae: 9.3004\n",
            "Epoch 47/100\n",
            "1/1 [==============================] - 0s 11ms/step - loss: 9.1864 - mae: 9.1864\n",
            "Epoch 48/100\n",
            "1/1 [==============================] - 0s 18ms/step - loss: 9.0716 - mae: 9.0716\n",
            "Epoch 49/100\n",
            "1/1 [==============================] - 0s 13ms/step - loss: 8.9561 - mae: 8.9561\n",
            "Epoch 50/100\n",
            "1/1 [==============================] - 0s 15ms/step - loss: 8.8398 - mae: 8.8398\n",
            "Epoch 51/100\n",
            "1/1 [==============================] - 0s 13ms/step - loss: 8.7227 - mae: 8.7227\n",
            "Epoch 52/100\n",
            "1/1 [==============================] - 0s 12ms/step - loss: 8.6048 - mae: 8.6048\n",
            "Epoch 53/100\n",
            "1/1 [==============================] - 0s 12ms/step - loss: 8.4861 - mae: 8.4861\n",
            "Epoch 54/100\n",
            "1/1 [==============================] - 0s 16ms/step - loss: 8.3666 - mae: 8.3666\n",
            "Epoch 55/100\n",
            "1/1 [==============================] - 0s 15ms/step - loss: 8.2462 - mae: 8.2462\n",
            "Epoch 56/100\n",
            "1/1 [==============================] - 0s 11ms/step - loss: 8.1249 - mae: 8.1249\n",
            "Epoch 57/100\n",
            "1/1 [==============================] - 0s 11ms/step - loss: 8.0028 - mae: 8.0028\n",
            "Epoch 58/100\n",
            "1/1 [==============================] - 0s 16ms/step - loss: 7.8797 - mae: 7.8797\n",
            "Epoch 59/100\n",
            "1/1 [==============================] - 0s 11ms/step - loss: 7.7558 - mae: 7.7558\n",
            "Epoch 60/100\n",
            "1/1 [==============================] - 0s 14ms/step - loss: 7.6309 - mae: 7.6309\n",
            "Epoch 61/100\n",
            "1/1 [==============================] - 0s 13ms/step - loss: 7.5051 - mae: 7.5051\n",
            "Epoch 62/100\n",
            "1/1 [==============================] - 0s 23ms/step - loss: 7.3783 - mae: 7.3783\n",
            "Epoch 63/100\n",
            "1/1 [==============================] - 0s 17ms/step - loss: 7.2506 - mae: 7.2506\n",
            "Epoch 64/100\n",
            "1/1 [==============================] - 0s 12ms/step - loss: 7.1219 - mae: 7.1219\n",
            "Epoch 65/100\n",
            "1/1 [==============================] - 0s 25ms/step - loss: 6.9921 - mae: 6.9921\n",
            "Epoch 66/100\n",
            "1/1 [==============================] - 0s 17ms/step - loss: 6.8614 - mae: 6.8614\n",
            "Epoch 67/100\n",
            "1/1 [==============================] - 0s 17ms/step - loss: 6.7296 - mae: 6.7296\n",
            "Epoch 68/100\n",
            "1/1 [==============================] - 0s 23ms/step - loss: 6.6960 - mae: 6.6960\n",
            "Epoch 69/100\n",
            "1/1 [==============================] - 0s 12ms/step - loss: 6.6802 - mae: 6.6802\n",
            "Epoch 70/100\n",
            "1/1 [==============================] - 0s 10ms/step - loss: 6.6648 - mae: 6.6648\n",
            "Epoch 71/100\n",
            "1/1 [==============================] - 0s 12ms/step - loss: 6.6497 - mae: 6.6497\n",
            "Epoch 72/100\n",
            "1/1 [==============================] - 0s 12ms/step - loss: 6.6348 - mae: 6.6348\n",
            "Epoch 73/100\n",
            "1/1 [==============================] - 0s 13ms/step - loss: 6.6201 - mae: 6.6201\n",
            "Epoch 74/100\n",
            "1/1 [==============================] - 0s 14ms/step - loss: 6.6234 - mae: 6.6234\n",
            "Epoch 75/100\n",
            "1/1 [==============================] - 0s 18ms/step - loss: 6.6529 - mae: 6.6529\n",
            "Epoch 76/100\n",
            "1/1 [==============================] - 0s 18ms/step - loss: 6.6715 - mae: 6.6715\n",
            "Epoch 77/100\n",
            "1/1 [==============================] - 0s 17ms/step - loss: 6.6803 - mae: 6.6803\n",
            "Epoch 78/100\n",
            "1/1 [==============================] - 0s 22ms/step - loss: 6.6802 - mae: 6.6802\n",
            "Epoch 79/100\n",
            "1/1 [==============================] - 0s 14ms/step - loss: 6.6721 - mae: 6.6721\n",
            "Epoch 80/100\n",
            "1/1 [==============================] - 0s 17ms/step - loss: 6.6568 - mae: 6.6568\n",
            "Epoch 81/100\n",
            "1/1 [==============================] - 0s 25ms/step - loss: 6.6350 - mae: 6.6350\n",
            "Epoch 82/100\n",
            "1/1 [==============================] - 0s 18ms/step - loss: 6.6075 - mae: 6.6075\n",
            "Epoch 83/100\n",
            "1/1 [==============================] - 0s 14ms/step - loss: 6.5748 - mae: 6.5748\n",
            "Epoch 84/100\n",
            "1/1 [==============================] - 0s 19ms/step - loss: 6.5374 - mae: 6.5374\n",
            "Epoch 85/100\n",
            "1/1 [==============================] - 0s 18ms/step - loss: 6.4959 - mae: 6.4959\n",
            "Epoch 86/100\n",
            "1/1 [==============================] - 0s 19ms/step - loss: 6.4812 - mae: 6.4812\n",
            "Epoch 87/100\n",
            "1/1 [==============================] - 0s 15ms/step - loss: 6.4728 - mae: 6.4728\n",
            "Epoch 88/100\n",
            "1/1 [==============================] - 0s 16ms/step - loss: 6.4640 - mae: 6.4640\n",
            "Epoch 89/100\n",
            "1/1 [==============================] - 0s 12ms/step - loss: 6.4548 - mae: 6.4548\n",
            "Epoch 90/100\n",
            "1/1 [==============================] - 0s 12ms/step - loss: 6.4454 - mae: 6.4454\n",
            "Epoch 91/100\n",
            "1/1 [==============================] - 0s 14ms/step - loss: 6.4355 - mae: 6.4355\n",
            "Epoch 92/100\n",
            "1/1 [==============================] - 0s 20ms/step - loss: 6.4255 - mae: 6.4255\n",
            "Epoch 93/100\n",
            "1/1 [==============================] - 0s 19ms/step - loss: 6.4151 - mae: 6.4151\n",
            "Epoch 94/100\n",
            "1/1 [==============================] - 0s 24ms/step - loss: 6.4045 - mae: 6.4045\n",
            "Epoch 95/100\n",
            "1/1 [==============================] - 0s 15ms/step - loss: 6.3937 - mae: 6.3937\n",
            "Epoch 96/100\n",
            "1/1 [==============================] - 0s 9ms/step - loss: 6.3826 - mae: 6.3826\n",
            "Epoch 97/100\n",
            "1/1 [==============================] - 0s 15ms/step - loss: 6.3714 - mae: 6.3714\n",
            "Epoch 98/100\n",
            "1/1 [==============================] - 0s 10ms/step - loss: 6.3599 - mae: 6.3599\n",
            "Epoch 99/100\n",
            "1/1 [==============================] - 0s 13ms/step - loss: 6.3483 - mae: 6.3483\n",
            "Epoch 100/100\n",
            "1/1 [==============================] - 0s 7ms/step - loss: 6.3365 - mae: 6.3365\n"
          ]
        },
        {
          "output_type": "execute_result",
          "data": {
            "text/plain": [
              "<keras.callbacks.History at 0x7f0020660880>"
            ]
          },
          "metadata": {},
          "execution_count": 16
        }
      ]
    },
    {
      "cell_type": "code",
      "source": [
        "model.predict([14])"
      ],
      "metadata": {
        "colab": {
          "base_uri": "https://localhost:8080/"
        },
        "id": "eSy8HRFnLU2t",
        "outputId": "f3111df8-ba51-457b-c3d2-f108961b2070"
      },
      "execution_count": 17,
      "outputs": [
        {
          "output_type": "stream",
          "name": "stdout",
          "text": [
            "1/1 [==============================] - 0s 153ms/step\n"
          ]
        },
        {
          "output_type": "execute_result",
          "data": {
            "text/plain": [
              "array([[25.062443]], dtype=float32)"
            ]
          },
          "metadata": {},
          "execution_count": 17
        }
      ]
    },
    {
      "cell_type": "code",
      "source": [
        "X.numpy(), y.numpy()"
      ],
      "metadata": {
        "colab": {
          "base_uri": "https://localhost:8080/"
        },
        "id": "CioKlNS1MLkt",
        "outputId": "634455f2-27fb-49bf-f433-ca487195de29"
      },
      "execution_count": 18,
      "outputs": [
        {
          "output_type": "execute_result",
          "data": {
            "text/plain": [
              "(array([-7., -4., -1.,  2.,  5.,  8., 11., 14.], dtype=float32),\n",
              " array([ 3.,  6.,  9., 12., 15., 18., 21., 24.], dtype=float32))"
            ]
          },
          "metadata": {},
          "execution_count": 18
        }
      ]
    },
    {
      "cell_type": "markdown",
      "source": [
        "## Evaluting a model\n",
        "\n",
        "In practice, a typical workflow you'll go though when building neural networks is:\n",
        "\n",
        "```\n",
        "Build a model -> fit it -> evaluate it -> tweak a model -> fit it -> evaluate it -> tweak...\n",
        "```"
      ],
      "metadata": {
        "id": "aLdgtgqKb8lO"
      }
    },
    {
      "cell_type": "markdown",
      "source": [
        "When it comes to evaluation... there are 3 words you should memorize:\n",
        "> \"Visualize, Visualize, Visualize\"\n",
        "\n",
        "It's a good idea to visualize:\n",
        "* The data - what data are we working with? What does it look like?\n",
        "* The model itself - what does our model look like?\n",
        "* The training of a model - how does a model perform while it learns?\n",
        "* The predictions of the model - how do the predictions of a model line up against the ground truth (the orginal labels)?"
      ],
      "metadata": {
        "id": "gfpB2SqHcDJ9"
      }
    },
    {
      "cell_type": "code",
      "source": [
        "# Make a bigger dataset\n",
        "x = tf.range(-100, 100, 4)\n",
        "x.numpy()"
      ],
      "metadata": {
        "colab": {
          "base_uri": "https://localhost:8080/"
        },
        "id": "SivMAxscefhb",
        "outputId": "6c4bc62a-b2c1-470e-db17-497d6a218425"
      },
      "execution_count": 19,
      "outputs": [
        {
          "output_type": "execute_result",
          "data": {
            "text/plain": [
              "array([-100,  -96,  -92,  -88,  -84,  -80,  -76,  -72,  -68,  -64,  -60,\n",
              "        -56,  -52,  -48,  -44,  -40,  -36,  -32,  -28,  -24,  -20,  -16,\n",
              "        -12,   -8,   -4,    0,    4,    8,   12,   16,   20,   24,   28,\n",
              "         32,   36,   40,   44,   48,   52,   56,   60,   64,   68,   72,\n",
              "         76,   80,   84,   88,   92,   96], dtype=int32)"
            ]
          },
          "metadata": {},
          "execution_count": 19
        }
      ]
    },
    {
      "cell_type": "code",
      "source": [
        "# Make labels for the dataset\n",
        "y = x + 10\n",
        "y.numpy()"
      ],
      "metadata": {
        "colab": {
          "base_uri": "https://localhost:8080/"
        },
        "id": "lFDWa9pwe7XQ",
        "outputId": "c25c1829-5a5e-4ca6-c7ad-086740ee5fd3"
      },
      "execution_count": 20,
      "outputs": [
        {
          "output_type": "execute_result",
          "data": {
            "text/plain": [
              "array([-90, -86, -82, -78, -74, -70, -66, -62, -58, -54, -50, -46, -42,\n",
              "       -38, -34, -30, -26, -22, -18, -14, -10,  -6,  -2,   2,   6,  10,\n",
              "        14,  18,  22,  26,  30,  34,  38,  42,  46,  50,  54,  58,  62,\n",
              "        66,  70,  74,  78,  82,  86,  90,  94,  98, 102, 106], dtype=int32)"
            ]
          },
          "metadata": {},
          "execution_count": 20
        }
      ]
    },
    {
      "cell_type": "code",
      "source": [
        "# Visualize the data\n",
        "import matplotlib.pyplot as plt\n",
        "\n",
        "plt.scatter(x, y)"
      ],
      "metadata": {
        "colab": {
          "base_uri": "https://localhost:8080/",
          "height": 447
        },
        "id": "8MAhnwX4fPAn",
        "outputId": "c6af10d4-dbe8-4a82-fe8f-664bf9d02b8d"
      },
      "execution_count": 21,
      "outputs": [
        {
          "output_type": "execute_result",
          "data": {
            "text/plain": [
              "<matplotlib.collections.PathCollection at 0x7f0018699960>"
            ]
          },
          "metadata": {},
          "execution_count": 21
        },
        {
          "output_type": "display_data",
          "data": {
            "text/plain": [
              "<Figure size 640x480 with 1 Axes>"
            ],
            "image/png": "[encoded data removed]"
          },
          "metadata": {}
        }
      ]
    },
    {
      "cell_type": "markdown",
      "source": [
        "### The 3 sets...\n",
        "\n",
        "* Training set - the model learns from this data, which is typically 70-80% of the total data you have available.\n",
        "* Validation set - model gets tuned on this data, which is typically 10-15% of the data available.\n",
        "* Test set - the model gets evaluated on this data to test what it has learnend, this set is typically 10-15% of the total data available."
      ],
      "metadata": {
        "id": "GSfmXTLJfxLn"
      }
    },
    {
      "cell_type": "code",
      "source": [
        "# Check the length of how many samples we have\n",
        "len(x), len(y)"
      ],
      "metadata": {
        "colab": {
          "base_uri": "https://localhost:8080/"
        },
        "id": "sXuKRlo3hXiC",
        "outputId": "7aefd3e8-bfdc-40c6-937a-5577504ab8ff"
      },
      "execution_count": 22,
      "outputs": [
        {
          "output_type": "execute_result",
          "data": {
            "text/plain": [
              "(50, 50)"
            ]
          },
          "metadata": {},
          "execution_count": 22
        }
      ]
    },
    {
      "cell_type": "code",
      "source": [
        "# Split the data into train and test sets\n",
        "x_train = x[:40] # first 40 are training samples (80% of the data)\n",
        "y_train = y[:40]\n",
        "\n",
        "x_test = x[40:]\n",
        "y_test = y[40:]\n",
        "\n",
        "len(x_train), len(y_train), len(x_test), len(y_test)"
      ],
      "metadata": {
        "colab": {
          "base_uri": "https://localhost:8080/"
        },
        "id": "AVkLGCNdhtfQ",
        "outputId": "36dce03a-6ccf-4f8f-88c7-f195404098c2"
      },
      "execution_count": 23,
      "outputs": [
        {
          "output_type": "execute_result",
          "data": {
            "text/plain": [
              "(40, 40, 10, 10)"
            ]
          },
          "metadata": {},
          "execution_count": 23
        }
      ]
    },
    {
      "cell_type": "markdown",
      "source": [
        "### Visualizing the data\n",
        "Now we've got our data in training and test sets... let's visulizee it again!\n"
      ],
      "metadata": {
        "id": "XxzOu4XFinAx"
      }
    },
    {
      "cell_type": "code",
      "source": [
        "plt.figure(figsize=(7, 5))\n",
        "# Plot training data in blue\n",
        "plt.scatter(x_train, y_train, c=\"b\", label=\"Training data\") # our model will learn on this\n",
        "# Plot test data in green\n",
        "plt.scatter(x_test, y_test, c=\"g\", label=\"Test data\") # want our model to be able to predict this (given x what's y?)\n",
        "# Show a legend\n",
        "plt.legend()"
      ],
      "metadata": {
        "colab": {
          "base_uri": "https://localhost:8080/",
          "height": 462
        },
        "id": "3lKof6A6i_3F",
        "outputId": "b72c8608-23ef-4a21-cf27-cc3e6b3444e8"
      },
      "execution_count": 24,
      "outputs": [
        {
          "output_type": "execute_result",
          "data": {
            "text/plain": [
              "<matplotlib.legend.Legend at 0x7f00186e6530>"
            ]
          },
          "metadata": {},
          "execution_count": 24
        },
        {
          "output_type": "display_data",
          "data": {
            "text/plain": [
              "<Figure size 700x500 with 1 Axes>"
            ],
            "image/png": "[encoded data removed]"
          },
          "metadata": {}
        }
      ]
    },
    {
      "cell_type": "code",
      "source": [
        "# Let's have a look at how to build a neural network for our data\n",
        "tf.random.set_seed(42)\n",
        "\n",
        "model = tf.keras.Sequential([\n",
        "    tf.keras.layers.Dense(1, input_shape=[1], name=\"layer1\")\n",
        "], name=\"model\")\n",
        "\n",
        "model.compile(loss=tf.keras.losses.mae,\n",
        "              optimizer=tf.keras.optimizers.SGD(),\n",
        "              metrics=[\"mae\"])"
      ],
      "metadata": {
        "id": "S55AoZWQk0Np"
      },
      "execution_count": 48,
      "outputs": []
    },
    {
      "cell_type": "markdown",
      "source": [
        "### Visualizing the model"
      ],
      "metadata": {
        "id": "8URdrC29l39D"
      }
    },
    {
      "cell_type": "code",
      "source": [
        "model.summary()"
      ],
      "metadata": {
        "colab": {
          "base_uri": "https://localhost:8080/"
        },
        "id": "Nj5XBO59l7wq",
        "outputId": "747881c0-614e-46b9-f68d-d67ffb173454"
      },
      "execution_count": 49,
      "outputs": [
        {
          "output_type": "stream",
          "name": "stdout",
          "text": [
            "Model: \"model\"\n",
            "_________________________________________________________________\n",
            " Layer (type)                Output Shape              Param #   \n",
            "=================================================================\n",
            " layer1 (Dense)              (None, 1)                 2         \n",
            "                                                                 \n",
            "=================================================================\n",
            "Total params: 2\n",
            "Trainable params: 2\n",
            "Non-trainable params: 0\n",
            "_________________________________________________________________\n"
          ]
        }
      ]
    },
    {
      "cell_type": "markdown",
      "source": [
        "* Total params - total number of parameters in the model.\n",
        "* Trainable parameters - these are the parameters (patterns) the model can update as it trains.\n",
        "* Non-trainable params - these parameters aren't updated during training (this is typical when you bring in already learned patterns or parameters from other models during **transfer learning**)."
      ],
      "metadata": {
        "id": "c1rN2zpzmBA1"
      }
    },
    {
      "cell_type": "code",
      "source": [
        "# Let's fit or model to the training data\n",
        "model.fit(x_train, y_train, epochs=100, verbose=0)"
      ],
      "metadata": {
        "colab": {
          "base_uri": "https://localhost:8080/"
        },
        "id": "6qDvIip9Uh3P",
        "outputId": "747731dd-1044-4c04-fb3e-1803ea22a325"
      },
      "execution_count": 51,
      "outputs": [
        {
          "output_type": "execute_result",
          "data": {
            "text/plain": [
              "<keras.callbacks.History at 0x7f001adc0f70>"
            ]
          },
          "metadata": {},
          "execution_count": 51
        }
      ]
    },
    {
      "cell_type": "code",
      "source": [
        "from tensorflow.keras.utils import plot_model\n",
        "\n",
        "plot_model(model=model, show_shapes=True)"
      ],
      "metadata": {
        "colab": {
          "base_uri": "https://localhost:8080/",
          "height": 201
        },
        "id": "Wq4bJ-lsxV3a",
        "outputId": "2bce38b4-40b0-44f2-c865-3975fb32c0a3"
      },
      "execution_count": 50,
      "outputs": [
        {
          "output_type": "execute_result",
          "data": {
            "image/png": "[encoded data removed]",
            "text/plain": [
              "<IPython.core.display.Image object>"
            ]
          },
          "metadata": {},
          "execution_count": 50
        }
      ]
    },
    {
      "cell_type": "markdown",
      "source": [
        "### Visualizing our model's predictions\n",
        "\n",
        "To visualize predictions, it's a good idea to plot them against the ground truth labels. Often"
      ],
      "metadata": {
        "id": "UeYKy72T0Cov"
      }
    }
  ]
}